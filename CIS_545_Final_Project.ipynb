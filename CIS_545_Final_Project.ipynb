{
  "nbformat": 4,
  "nbformat_minor": 0,
  "metadata": {
    "colab": {
      "name": "CIS 545 Final Project",
      "provenance": [],
      "collapsed_sections": [],
      "toc_visible": true
    },
    "kernelspec": {
      "display_name": "Python 3",
      "name": "python3"
    }
  },
  "cells": [
    {
      "cell_type": "markdown",
      "metadata": {
        "id": "WQnDVwOQgxXB"
      },
      "source": [
        "# Introduction"
      ]
    },
    {
      "cell_type": "markdown",
      "metadata": {
        "id": "uTFHwmlEg06C"
      },
      "source": [
        "We did our project on the Arxiv dataset, which is a dataset containg data on over 1 million reserach papers published over the last 20 years. \n",
        "Going to a school which boasts about its interdisciplinary education such as Penn, we were intersted in examining how different disciplines were actually related in the world of academia. To that effect, we decided to construct a graph of different research domains (categories), where an edge represents the same author writing in both those categories. We ran PageRank on this graph to examine its topology and see which categories/research domains were most connected to other domains. \n",
        "We also played around with the data a little bit and examined things like which category had the most number of authors (on avergage), most common categories, etc. \n",
        "Finally, for further analysis, we decided to see if the language of an abstract indicates anything about what category a paper might be in. Do mathematicians use very different language than say, an economist? We tried to answer this question by training a Naive Bayes model on the abtracts to predict the category, and evaluating its accuracy."
      ]
    },
    {
      "cell_type": "markdown",
      "metadata": {
        "id": "d_4NNUFmdAr6"
      },
      "source": [
        "# Imports"
      ]
    },
    {
      "cell_type": "code",
      "metadata": {
        "colab": {
          "base_uri": "https://localhost:8080/"
        },
        "id": "RCdDuBDLOEPA",
        "outputId": "a60f246a-4ddd-4b03-ce63-6e79b5c9e223"
      },
      "source": [
        "!pip3 install boto3"
      ],
      "execution_count": 2,
      "outputs": [
        {
          "output_type": "stream",
          "text": [
            "Requirement already satisfied: boto3 in /usr/local/lib/python3.6/dist-packages (1.16.37)\n",
            "Requirement already satisfied: botocore<1.20.0,>=1.19.37 in /usr/local/lib/python3.6/dist-packages (from boto3) (1.19.37)\n",
            "Requirement already satisfied: jmespath<1.0.0,>=0.7.1 in /usr/local/lib/python3.6/dist-packages (from boto3) (0.10.0)\n",
            "Requirement already satisfied: s3transfer<0.4.0,>=0.3.0 in /usr/local/lib/python3.6/dist-packages (from boto3) (0.3.3)\n",
            "Requirement already satisfied: python-dateutil<3.0.0,>=2.1 in /usr/local/lib/python3.6/dist-packages (from botocore<1.20.0,>=1.19.37->boto3) (2.8.1)\n",
            "Requirement already satisfied: urllib3<1.27,>=1.25.4; python_version != \"3.4\" in /usr/local/lib/python3.6/dist-packages (from botocore<1.20.0,>=1.19.37->boto3) (1.26.2)\n",
            "Requirement already satisfied: six>=1.5 in /usr/local/lib/python3.6/dist-packages (from python-dateutil<3.0.0,>=2.1->botocore<1.20.0,>=1.19.37->boto3) (1.15.0)\n"
          ],
          "name": "stdout"
        }
      ]
    },
    {
      "cell_type": "code",
      "metadata": {
        "id": "OWWr7YC2MSbu"
      },
      "source": [
        "%%capture\n",
        "!apt install libkrb5-dev\n",
        "!wget https://downloads.apache.org/spark/spark-3.0.1/spark-3.0.1-bin-hadoop3.2.tgz\n",
        "!tar xf spark-3.0.1-bin-hadoop3.2.tgz\n",
        "!pip install findspark\n",
        "!pip install sparkmagic\n",
        "!pip install pyspark\n",
        "! pip install pyspark --user\n",
        "! pip install seaborn --user\n",
        "! pip install plotly --user\n",
        "! pip install imageio --user\n",
        "! pip install folium --user"
      ],
      "execution_count": 3,
      "outputs": []
    },
    {
      "cell_type": "code",
      "metadata": {
        "id": "DNj9DiHYNAat"
      },
      "source": [
        "%%capture\n",
        "!apt update\n",
        "!apt install gcc python-dev libkrb5-dev"
      ],
      "execution_count": 4,
      "outputs": []
    },
    {
      "cell_type": "code",
      "metadata": {
        "colab": {
          "base_uri": "https://localhost:8080/"
        },
        "id": "_AkSh7UZOEC3",
        "outputId": "47fbe94b-bb59-42ed-ec78-d422d3f34230"
      },
      "source": [
        "! sudo apt install openjdk-8-jdk\n",
        "! sudo update-alternatives --config java"
      ],
      "execution_count": 5,
      "outputs": [
        {
          "output_type": "stream",
          "text": [
            "Reading package lists... Done\n",
            "Building dependency tree       \n",
            "Reading state information... Done\n",
            "The following additional packages will be installed:\n",
            "  fonts-dejavu-core fonts-dejavu-extra libatk-wrapper-java\n",
            "  libatk-wrapper-java-jni libgail-common libgail18 libgtk2.0-0 libgtk2.0-bin\n",
            "  libgtk2.0-common libxxf86dga1 openjdk-8-jdk-headless openjdk-8-jre\n",
            "  openjdk-8-jre-headless x11-utils\n",
            "Suggested packages:\n",
            "  gvfs openjdk-8-demo openjdk-8-source visualvm icedtea-8-plugin libnss-mdns\n",
            "  fonts-ipafont-gothic fonts-ipafont-mincho fonts-wqy-microhei\n",
            "  fonts-wqy-zenhei fonts-indic mesa-utils\n",
            "The following NEW packages will be installed:\n",
            "  fonts-dejavu-core fonts-dejavu-extra libatk-wrapper-java\n",
            "  libatk-wrapper-java-jni libgail-common libgail18 libgtk2.0-0 libgtk2.0-bin\n",
            "  libgtk2.0-common libxxf86dga1 openjdk-8-jdk openjdk-8-jdk-headless\n",
            "  openjdk-8-jre openjdk-8-jre-headless x11-utils\n",
            "0 upgraded, 15 newly installed, 0 to remove and 47 not upgraded.\n",
            "Need to get 43.4 MB of archives.\n",
            "After this operation, 163 MB of additional disk space will be used.\n",
            "Get:1 http://archive.ubuntu.com/ubuntu bionic/main amd64 libxxf86dga1 amd64 2:1.1.4-1 [13.7 kB]\n",
            "Get:2 http://archive.ubuntu.com/ubuntu bionic/main amd64 fonts-dejavu-core all 2.37-1 [1,041 kB]\n",
            "Get:3 http://archive.ubuntu.com/ubuntu bionic/main amd64 fonts-dejavu-extra all 2.37-1 [1,953 kB]\n",
            "Get:4 http://archive.ubuntu.com/ubuntu bionic/main amd64 x11-utils amd64 7.7+3build1 [196 kB]\n",
            "Get:5 http://archive.ubuntu.com/ubuntu bionic/main amd64 libatk-wrapper-java all 0.33.3-20ubuntu0.1 [34.7 kB]\n",
            "Get:6 http://archive.ubuntu.com/ubuntu bionic/main amd64 libatk-wrapper-java-jni amd64 0.33.3-20ubuntu0.1 [28.3 kB]\n",
            "Get:7 http://archive.ubuntu.com/ubuntu bionic/main amd64 libgtk2.0-common all 2.24.32-1ubuntu1 [125 kB]\n",
            "Get:8 http://archive.ubuntu.com/ubuntu bionic/main amd64 libgtk2.0-0 amd64 2.24.32-1ubuntu1 [1,769 kB]\n",
            "Get:9 http://archive.ubuntu.com/ubuntu bionic/main amd64 libgail18 amd64 2.24.32-1ubuntu1 [14.2 kB]\n",
            "Get:10 http://archive.ubuntu.com/ubuntu bionic/main amd64 libgail-common amd64 2.24.32-1ubuntu1 [112 kB]\n",
            "Get:11 http://archive.ubuntu.com/ubuntu bionic/main amd64 libgtk2.0-bin amd64 2.24.32-1ubuntu1 [7,536 B]\n",
            "Get:12 http://archive.ubuntu.com/ubuntu bionic-updates/universe amd64 openjdk-8-jre-headless amd64 8u275-b01-0ubuntu1~18.04 [28.2 MB]\n",
            "Get:13 http://archive.ubuntu.com/ubuntu bionic-updates/universe amd64 openjdk-8-jre amd64 8u275-b01-0ubuntu1~18.04 [69.7 kB]\n",
            "Get:14 http://archive.ubuntu.com/ubuntu bionic-updates/universe amd64 openjdk-8-jdk-headless amd64 8u275-b01-0ubuntu1~18.04 [8,269 kB]\n",
            "Get:15 http://archive.ubuntu.com/ubuntu bionic-updates/universe amd64 openjdk-8-jdk amd64 8u275-b01-0ubuntu1~18.04 [1,600 kB]\n",
            "Fetched 43.4 MB in 6s (7,563 kB/s)\n",
            "debconf: unable to initialize frontend: Dialog\n",
            "debconf: (No usable dialog-like program is installed, so the dialog based frontend cannot be used. at /usr/share/perl5/Debconf/FrontEnd/Dialog.pm line 76, <> line 15.)\n",
            "debconf: falling back to frontend: Readline\n",
            "debconf: unable to initialize frontend: Readline\n",
            "debconf: (This frontend requires a controlling tty.)\n",
            "debconf: falling back to frontend: Teletype\n",
            "dpkg-preconfigure: unable to re-open stdin: \n",
            "Selecting previously unselected package libxxf86dga1:amd64.\n",
            "(Reading database ... 145052 files and directories currently installed.)\n",
            "Preparing to unpack .../00-libxxf86dga1_2%3a1.1.4-1_amd64.deb ...\n",
            "Unpacking libxxf86dga1:amd64 (2:1.1.4-1) ...\n",
            "Selecting previously unselected package fonts-dejavu-core.\n",
            "Preparing to unpack .../01-fonts-dejavu-core_2.37-1_all.deb ...\n",
            "Unpacking fonts-dejavu-core (2.37-1) ...\n",
            "Selecting previously unselected package fonts-dejavu-extra.\n",
            "Preparing to unpack .../02-fonts-dejavu-extra_2.37-1_all.deb ...\n",
            "Unpacking fonts-dejavu-extra (2.37-1) ...\n",
            "Selecting previously unselected package x11-utils.\n",
            "Preparing to unpack .../03-x11-utils_7.7+3build1_amd64.deb ...\n",
            "Unpacking x11-utils (7.7+3build1) ...\n",
            "Selecting previously unselected package libatk-wrapper-java.\n",
            "Preparing to unpack .../04-libatk-wrapper-java_0.33.3-20ubuntu0.1_all.deb ...\n",
            "Unpacking libatk-wrapper-java (0.33.3-20ubuntu0.1) ...\n",
            "Selecting previously unselected package libatk-wrapper-java-jni:amd64.\n",
            "Preparing to unpack .../05-libatk-wrapper-java-jni_0.33.3-20ubuntu0.1_amd64.deb ...\n",
            "Unpacking libatk-wrapper-java-jni:amd64 (0.33.3-20ubuntu0.1) ...\n",
            "Selecting previously unselected package libgtk2.0-common.\n",
            "Preparing to unpack .../06-libgtk2.0-common_2.24.32-1ubuntu1_all.deb ...\n",
            "Unpacking libgtk2.0-common (2.24.32-1ubuntu1) ...\n",
            "Selecting previously unselected package libgtk2.0-0:amd64.\n",
            "Preparing to unpack .../07-libgtk2.0-0_2.24.32-1ubuntu1_amd64.deb ...\n",
            "Unpacking libgtk2.0-0:amd64 (2.24.32-1ubuntu1) ...\n",
            "Selecting previously unselected package libgail18:amd64.\n",
            "Preparing to unpack .../08-libgail18_2.24.32-1ubuntu1_amd64.deb ...\n",
            "Unpacking libgail18:amd64 (2.24.32-1ubuntu1) ...\n",
            "Selecting previously unselected package libgail-common:amd64.\n",
            "Preparing to unpack .../09-libgail-common_2.24.32-1ubuntu1_amd64.deb ...\n",
            "Unpacking libgail-common:amd64 (2.24.32-1ubuntu1) ...\n",
            "Selecting previously unselected package libgtk2.0-bin.\n",
            "Preparing to unpack .../10-libgtk2.0-bin_2.24.32-1ubuntu1_amd64.deb ...\n",
            "Unpacking libgtk2.0-bin (2.24.32-1ubuntu1) ...\n",
            "Selecting previously unselected package openjdk-8-jre-headless:amd64.\n",
            "Preparing to unpack .../11-openjdk-8-jre-headless_8u275-b01-0ubuntu1~18.04_amd64.deb ...\n",
            "Unpacking openjdk-8-jre-headless:amd64 (8u275-b01-0ubuntu1~18.04) ...\n",
            "Selecting previously unselected package openjdk-8-jre:amd64.\n",
            "Preparing to unpack .../12-openjdk-8-jre_8u275-b01-0ubuntu1~18.04_amd64.deb ...\n",
            "Unpacking openjdk-8-jre:amd64 (8u275-b01-0ubuntu1~18.04) ...\n",
            "Selecting previously unselected package openjdk-8-jdk-headless:amd64.\n",
            "Preparing to unpack .../13-openjdk-8-jdk-headless_8u275-b01-0ubuntu1~18.04_amd64.deb ...\n",
            "Unpacking openjdk-8-jdk-headless:amd64 (8u275-b01-0ubuntu1~18.04) ...\n",
            "Selecting previously unselected package openjdk-8-jdk:amd64.\n",
            "Preparing to unpack .../14-openjdk-8-jdk_8u275-b01-0ubuntu1~18.04_amd64.deb ...\n",
            "Unpacking openjdk-8-jdk:amd64 (8u275-b01-0ubuntu1~18.04) ...\n",
            "Setting up libgtk2.0-common (2.24.32-1ubuntu1) ...\n",
            "Setting up fonts-dejavu-core (2.37-1) ...\n",
            "Setting up libxxf86dga1:amd64 (2:1.1.4-1) ...\n",
            "Setting up fonts-dejavu-extra (2.37-1) ...\n",
            "Setting up openjdk-8-jre-headless:amd64 (8u275-b01-0ubuntu1~18.04) ...\n",
            "update-alternatives: using /usr/lib/jvm/java-8-openjdk-amd64/jre/bin/orbd to provide /usr/bin/orbd (orbd) in auto mode\n",
            "update-alternatives: using /usr/lib/jvm/java-8-openjdk-amd64/jre/bin/servertool to provide /usr/bin/servertool (servertool) in auto mode\n",
            "update-alternatives: using /usr/lib/jvm/java-8-openjdk-amd64/jre/bin/tnameserv to provide /usr/bin/tnameserv (tnameserv) in auto mode\n",
            "Setting up libgtk2.0-0:amd64 (2.24.32-1ubuntu1) ...\n",
            "Setting up libgail18:amd64 (2.24.32-1ubuntu1) ...\n",
            "Setting up openjdk-8-jdk-headless:amd64 (8u275-b01-0ubuntu1~18.04) ...\n",
            "update-alternatives: using /usr/lib/jvm/java-8-openjdk-amd64/bin/idlj to provide /usr/bin/idlj (idlj) in auto mode\n",
            "update-alternatives: using /usr/lib/jvm/java-8-openjdk-amd64/bin/wsimport to provide /usr/bin/wsimport (wsimport) in auto mode\n",
            "update-alternatives: using /usr/lib/jvm/java-8-openjdk-amd64/bin/jsadebugd to provide /usr/bin/jsadebugd (jsadebugd) in auto mode\n",
            "update-alternatives: using /usr/lib/jvm/java-8-openjdk-amd64/bin/native2ascii to provide /usr/bin/native2ascii (native2ascii) in auto mode\n",
            "update-alternatives: using /usr/lib/jvm/java-8-openjdk-amd64/bin/javah to provide /usr/bin/javah (javah) in auto mode\n",
            "update-alternatives: using /usr/lib/jvm/java-8-openjdk-amd64/bin/clhsdb to provide /usr/bin/clhsdb (clhsdb) in auto mode\n",
            "update-alternatives: using /usr/lib/jvm/java-8-openjdk-amd64/bin/xjc to provide /usr/bin/xjc (xjc) in auto mode\n",
            "update-alternatives: using /usr/lib/jvm/java-8-openjdk-amd64/bin/hsdb to provide /usr/bin/hsdb (hsdb) in auto mode\n",
            "update-alternatives: using /usr/lib/jvm/java-8-openjdk-amd64/bin/schemagen to provide /usr/bin/schemagen (schemagen) in auto mode\n",
            "update-alternatives: using /usr/lib/jvm/java-8-openjdk-amd64/bin/extcheck to provide /usr/bin/extcheck (extcheck) in auto mode\n",
            "update-alternatives: using /usr/lib/jvm/java-8-openjdk-amd64/bin/jhat to provide /usr/bin/jhat (jhat) in auto mode\n",
            "update-alternatives: using /usr/lib/jvm/java-8-openjdk-amd64/bin/wsgen to provide /usr/bin/wsgen (wsgen) in auto mode\n",
            "Setting up x11-utils (7.7+3build1) ...\n",
            "Setting up libgail-common:amd64 (2.24.32-1ubuntu1) ...\n",
            "Setting up libatk-wrapper-java (0.33.3-20ubuntu0.1) ...\n",
            "Setting up libgtk2.0-bin (2.24.32-1ubuntu1) ...\n",
            "Setting up libatk-wrapper-java-jni:amd64 (0.33.3-20ubuntu0.1) ...\n",
            "Setting up openjdk-8-jre:amd64 (8u275-b01-0ubuntu1~18.04) ...\n",
            "update-alternatives: using /usr/lib/jvm/java-8-openjdk-amd64/jre/bin/policytool to provide /usr/bin/policytool (policytool) in auto mode\n",
            "Setting up openjdk-8-jdk:amd64 (8u275-b01-0ubuntu1~18.04) ...\n",
            "update-alternatives: using /usr/lib/jvm/java-8-openjdk-amd64/bin/appletviewer to provide /usr/bin/appletviewer (appletviewer) in auto mode\n",
            "update-alternatives: using /usr/lib/jvm/java-8-openjdk-amd64/bin/jconsole to provide /usr/bin/jconsole (jconsole) in auto mode\n",
            "Processing triggers for man-db (2.8.3-2ubuntu0.1) ...\n",
            "Processing triggers for hicolor-icon-theme (0.17-2) ...\n",
            "Processing triggers for fontconfig (2.12.6-0ubuntu2) ...\n",
            "Processing triggers for mime-support (3.60ubuntu1) ...\n",
            "Processing triggers for libc-bin (2.27-3ubuntu1.2) ...\n",
            "/sbin/ldconfig.real: /usr/local/lib/python3.6/dist-packages/ideep4py/lib/libmkldnn.so.0 is not a symbolic link\n",
            "\n",
            "There are 2 choices for the alternative java (providing /usr/bin/java).\n",
            "\n",
            "  Selection    Path                                            Priority   Status\n",
            "------------------------------------------------------------\n",
            "* 0            /usr/lib/jvm/java-11-openjdk-amd64/bin/java      1111      auto mode\n",
            "  1            /usr/lib/jvm/java-11-openjdk-amd64/bin/java      1111      manual mode\n",
            "  2            /usr/lib/jvm/java-8-openjdk-amd64/jre/bin/java   1081      manual mode\n",
            "\n",
            "Press <enter> to keep the current choice[*], or type selection number: 2\n",
            "update-alternatives: using /usr/lib/jvm/java-8-openjdk-amd64/jre/bin/java to provide /usr/bin/java (java) in manual mode\n"
          ],
          "name": "stdout"
        }
      ]
    },
    {
      "cell_type": "code",
      "metadata": {
        "id": "4mO0sWEPSbq1"
      },
      "source": [
        "import pandas as pd\n",
        "import pyspark as spark\n",
        "from pyspark.sql import SQLContext\n",
        "\n",
        "from pyspark.sql import SparkSession\n",
        "from pyspark.sql.types import *\n",
        "import pyspark.sql.functions as F\n",
        "\n",
        "import os\n",
        "\n",
        "spark = SparkSession.builder.appName('545-Final-Project').getOrCreate()"
      ],
      "execution_count": 6,
      "outputs": []
    },
    {
      "cell_type": "code",
      "metadata": {
        "id": "H9svmpQ0NI8_"
      },
      "source": [
        "%load_ext sparkmagic.magics"
      ],
      "execution_count": 7,
      "outputs": []
    },
    {
      "cell_type": "code",
      "metadata": {
        "id": "8IUh9vlpRFAx"
      },
      "source": [
        "import numpy as np\n",
        "import pandas as pd\n",
        "import matplotlib\n",
        "import matplotlib.pyplot as plt\n",
        "\n",
        "#misc\n",
        "import gc\n",
        "import time\n",
        "import warnings\n",
        "\n",
        "\n",
        "#graph section\n",
        "import networkx as nx\n",
        "#import heapq  # for getting top n number of things from list,dict\n",
        "import pandas as pd\n",
        "import numpy as np\n",
        "\n",
        "# JSON parsing\n",
        "import json\n",
        "\n",
        "# HTML parsing\n",
        "from lxml import etree\n",
        "import urllib\n",
        "\n",
        "# SQLite RDBMS\n",
        "import sqlite3\n",
        "\n",
        "# Time conversions\n",
        "import time\n",
        "\n",
        "# Parallel processing\n",
        "# import swifter\n",
        "\n",
        "# NoSQL DB\n",
        "from pymongo import MongoClient\n",
        "from pymongo.errors import DuplicateKeyError, OperationFailure\n",
        "\n",
        "import os\n",
        "os.environ[\"SPARK_HOME\"] = \"/content/spark-3.0.1-bin-hadoop3.2\"\n",
        "os.environ[\"JAVA_HOME\"] = \"/usr/lib/jvm/java-8-openjdk-amd64\"\n",
        "import pyspark\n",
        "from pyspark.sql import SQLContext"
      ],
      "execution_count": 8,
      "outputs": []
    },
    {
      "cell_type": "code",
      "metadata": {
        "id": "KjET8J1jOyL6"
      },
      "source": [
        "try:\n",
        "    if(spark == None):\n",
        "        spark = SparkSession.builder.appName('Initial').getOrCreate()\n",
        "        sqlContext=SQLContext(spark)\n",
        "except NameError:\n",
        "    spark = SparkSession.builder.appName('Initial').getOrCreate()\n",
        "    sqlContext=SQLContext(spark)\n"
      ],
      "execution_count": 9,
      "outputs": []
    },
    {
      "cell_type": "markdown",
      "metadata": {
        "id": "FdRKFZeSs2yh"
      },
      "source": [
        "# Data Wrangling"
      ]
    },
    {
      "cell_type": "markdown",
      "metadata": {
        "id": "JL7KqPlhdb58"
      },
      "source": [
        "## Loading and formatting the data"
      ]
    },
    {
      "cell_type": "markdown",
      "metadata": {
        "id": "elvEEO0zdihm"
      },
      "source": [
        "Here, we load the Arxiv data set from an s3 bucket, and load it into spark."
      ]
    },
    {
      "cell_type": "code",
      "metadata": {
        "id": "iottpoex4jCd"
      },
      "source": [
        "import boto3\n",
        "from botocore import UNSIGNED\n",
        "\n",
        "from botocore.config import Config\n",
        "\n",
        "s3 = boto3.resource('s3', config=Config(signature_version=UNSIGNED))\n",
        "s3.Bucket('arxivsaurabh').download_file('arxiv.json', 'arxiv.json')"
      ],
      "execution_count": 10,
      "outputs": []
    },
    {
      "cell_type": "code",
      "metadata": {
        "colab": {
          "base_uri": "https://localhost:8080/"
        },
        "id": "or-08H3mPW6o",
        "outputId": "e3f0ff4d-221c-4393-d118-31d805fe57d7"
      },
      "source": [
        "data_sdf = spark.read.format('json').option('header', 'false').load('/content/arxiv.json')\n",
        "data_sdf.show()"
      ],
      "execution_count": 11,
      "outputs": [
        {
          "output_type": "stream",
          "text": [
            "+--------------------+--------------------+--------------------+-----------------+--------------------+--------------------+---------+--------------------+--------------------+--------------------+------------------+--------------------+-----------+--------------------+\n",
            "|            abstract|             authors|      authors_parsed|       categories|            comments|                 doi|       id|         journal-ref|             license|           report-no|         submitter|               title|update_date|            versions|\n",
            "+--------------------+--------------------+--------------------+-----------------+--------------------+--------------------+---------+--------------------+--------------------+--------------------+------------------+--------------------+-----------+--------------------+\n",
            "|  A fully differe...|C. Bal\\'azs, E. L...|[[Balázs, C., ], ...|           hep-ph|37 pages, 15 figu...|10.1103/PhysRevD....|0704.0001|Phys.Rev.D76:0130...|                null|    ANL-HEP-PR-07-12|    Pavel Nadolsky|Calculation of pr...| 2008-11-26|[[Mon, 2 Apr 2007...|\n",
            "|  We describe a n...|Ileana Streinu an...|[[Streinu, Ileana...|    math.CO cs.CG|To appear in Grap...|                null|0704.0002|                null|http://arxiv.org/...|                null|      Louis Theran|Sparsity-certifyi...| 2008-12-13|[[Sat, 31 Mar 200...|\n",
            "|  The evolution o...|         Hongjun Pan|  [[Pan, Hongjun, ]]|   physics.gen-ph| 23 pages, 3 figures|                null|0704.0003|                null|                null|                null|       Hongjun Pan|The evolution of ...| 2008-01-13|[[Sun, 1 Apr 2007...|\n",
            "|  We show that a ...|        David Callan| [[Callan, David, ]]|          math.CO|            11 pages|                null|0704.0004|                null|                null|                null|      David Callan|A determinant of ...| 2007-05-23|[[Sat, 31 Mar 200...|\n",
            "|  In this paper w...|Wael Abu-Shammala...|[[Abu-Shammala, W...|  math.CA math.FA|                null|                null|0704.0005|Illinois J. Math....|                null|                null|Alberto Torchinsky|From dyadic $\\Lam...| 2013-10-15|[[Mon, 2 Apr 2007...|\n",
            "|  We study the tw...|Y. H. Pong and C....|[[Pong, Y. H., ],...|cond-mat.mes-hall|6 pages, 4 figure...|10.1103/PhysRevA....|0704.0006|                null|                null|                null|      Yue Hin Pong|Bosonic character...| 2015-05-13|[[Sat, 31 Mar 200...|\n",
            "|  A rather non-st...|Alejandro Corichi...|[[Corichi, Alejan...|            gr-qc|16 pages, no figu...|10.1103/PhysRevD....|0704.0007|Phys.Rev.D76:0440...|                null|        IGPG-07/03-2| Alejandro Corichi|Polymer Quantum M...| 2008-11-26|[[Sat, 31 Mar 200...|\n",
            "|  A general formu...|     Damian C. Swift|[[Swift, Damian C...|cond-mat.mtrl-sci|   Minor corrections|   10.1063/1.2975338|0704.0008|Journal of Applie...|http://arxiv.org/...|LA-UR-07-2051, LL...|      Damian Swift|Numerical solutio...| 2009-02-05|[[Sat, 31 Mar 200...|\n",
            "|  We discuss the ...|Paul Harvey, Brun...|[[Harvey, Paul, ]...|         astro-ph|                null|      10.1086/518646|0704.0009|Astrophys.J.663:1...|                null|                null|       Paul Harvey|The Spitzer c2d S...| 2010-03-18|[[Mon, 2 Apr 2007...|\n",
            "|  Partial cubes a...|  Sergei Ovchinnikov|[[Ovchinnikov, Se...|          math.CO|36 pages, 17 figures|                null|0704.0010|                null|                null|                null|Sergei Ovchinnikov|Partial cubes: st...| 2007-05-23|[[Sat, 31 Mar 200...|\n",
            "|  In this paper w...|Clifton Cunningha...|[[Cunningham, Cli...|  math.NT math.AG|14 pages; title c...|                null|0704.0011|                null|http://arxiv.org/...|                null|Clifton Cunningham|Computing genus 2...| 2008-08-20|[[Sat, 31 Mar 200...|\n",
            "|  Recently, Bruin...|         Dohoon Choi|  [[Choi, Dohoon, ]]|          math.NT|                null|                null|0704.0012|                null|                null|                null|       Dohoon Choi|Distribution of i...| 2007-05-23|[[Sat, 31 Mar 200...|\n",
            "|  Serre obtained ...|Dohoon Choi and Y...|[[Choi, Dohoon, ]...|          math.NT|                null|                null|0704.0013|                null|                null|                null|       Dohoon Choi|$p$-adic Limit of...| 2008-05-26|[[Sat, 31 Mar 200...|\n",
            "|  In this article...|        Koichi Fujii| [[Fujii, Koichi, ]]|  math.CA math.AT|  18 pages, 1 figure|                null|0704.0014|                null|                null|                null|      Koichi Fujii|Iterated integral...| 2009-09-29|[[Sun, 1 Apr 2007...|\n",
            "|  The pure spinor...|     Christian Stahn|[[Stahn, Christia...|           hep-th|22 pages; signs a...|10.1088/1126-6708...|0704.0015|  JHEP 0705:034,2007|                null|                null|   Christian Stahn|Fermionic superst...| 2009-11-13|[[Mon, 2 Apr 2007...|\n",
            "|  In this work, w...|Chao-Hsi Chang, T...|[[Chang, Chao-Hsi...|           hep-ph|17 pages, 3 figur...|10.1088/0253-6102...|0704.0016|Commun.Theor.Phys...|                null|                null|           Li Tong|Lifetime of doubl...| 2008-12-18|[[Sat, 31 Mar 200...|\n",
            "|  Results from sp...|Nceba Mhlahlo, Da...|[[Mhlahlo, Nceba,...|         astro-ph|10 pages, 11 figu...|10.1111/j.1365-29...|0704.0017|Mon.Not.Roy.Astro...|                null|                null|     Nceba Mhlahlo|Spectroscopic Obs...| 2009-06-23|[[Sat, 31 Mar 200...|\n",
            "|  We give a presc...|  Andreas Gustavsson|[[Gustavsson, And...|           hep-th|20 pages, v2: an ...|                null|0704.0018|                null|                null|                null|Andreas Gustavsson|In quest of a gen...| 2007-05-23|[[Mon, 2 Apr 2007...|\n",
            "|  In this note we...|         Norio Konno|  [[Konno, Norio, ]]|  math.PR math.AG|6 pages, Journal-...|                null|0704.0019|RIMS Kokyuroku, N...|                null|                null|       Norio Konno|Approximation for...| 2007-06-23|[[Sat, 31 Mar 200...|\n",
            "|  The shape of th...|The BABAR Collabo...|[[The BABAR Colla...|           hep-ex|21 pages, 13 post...|10.1103/PhysRevD....|0704.0020|Phys.Rev.D76:0520...|                null|BABAR-PUB-07/015,...|   Patrick Roudeau|Measurement of th...| 2015-06-30|[[Sat, 31 Mar 200...|\n",
            "+--------------------+--------------------+--------------------+-----------------+--------------------+--------------------+---------+--------------------+--------------------+--------------------+------------------+--------------------+-----------+--------------------+\n",
            "only showing top 20 rows\n",
            "\n"
          ],
          "name": "stdout"
        }
      ]
    },
    {
      "cell_type": "markdown",
      "metadata": {
        "id": "PYncgEXCfZBC"
      },
      "source": [
        "We next drop columns which are not necessary, and have high insances of null values, and then drop all null rows from the table."
      ]
    },
    {
      "cell_type": "code",
      "metadata": {
        "colab": {
          "base_uri": "https://localhost:8080/"
        },
        "id": "cTpxzesJR_jE",
        "outputId": "99d6c443-dc57-4e36-b3c3-dabccd37b846"
      },
      "source": [
        "data_sdf = data_sdf.drop('license', 'report-no', 'authors', 'comments', 'doi', 'journal-ref')\n",
        "data_sdf = data_sdf.dropna()\n",
        "data_sdf.show()\n",
        "print(data_sdf.count())"
      ],
      "execution_count": 12,
      "outputs": [
        {
          "output_type": "stream",
          "text": [
            "+--------------------+--------------------+-----------------+---------+------------------+--------------------+-----------+--------------------+\n",
            "|            abstract|      authors_parsed|       categories|       id|         submitter|               title|update_date|            versions|\n",
            "+--------------------+--------------------+-----------------+---------+------------------+--------------------+-----------+--------------------+\n",
            "|  A fully differe...|[[Balázs, C., ], ...|           hep-ph|0704.0001|    Pavel Nadolsky|Calculation of pr...| 2008-11-26|[[Mon, 2 Apr 2007...|\n",
            "|  We describe a n...|[[Streinu, Ileana...|    math.CO cs.CG|0704.0002|      Louis Theran|Sparsity-certifyi...| 2008-12-13|[[Sat, 31 Mar 200...|\n",
            "|  The evolution o...|  [[Pan, Hongjun, ]]|   physics.gen-ph|0704.0003|       Hongjun Pan|The evolution of ...| 2008-01-13|[[Sun, 1 Apr 2007...|\n",
            "|  We show that a ...| [[Callan, David, ]]|          math.CO|0704.0004|      David Callan|A determinant of ...| 2007-05-23|[[Sat, 31 Mar 200...|\n",
            "|  In this paper w...|[[Abu-Shammala, W...|  math.CA math.FA|0704.0005|Alberto Torchinsky|From dyadic $\\Lam...| 2013-10-15|[[Mon, 2 Apr 2007...|\n",
            "|  We study the tw...|[[Pong, Y. H., ],...|cond-mat.mes-hall|0704.0006|      Yue Hin Pong|Bosonic character...| 2015-05-13|[[Sat, 31 Mar 200...|\n",
            "|  A rather non-st...|[[Corichi, Alejan...|            gr-qc|0704.0007| Alejandro Corichi|Polymer Quantum M...| 2008-11-26|[[Sat, 31 Mar 200...|\n",
            "|  A general formu...|[[Swift, Damian C...|cond-mat.mtrl-sci|0704.0008|      Damian Swift|Numerical solutio...| 2009-02-05|[[Sat, 31 Mar 200...|\n",
            "|  We discuss the ...|[[Harvey, Paul, ]...|         astro-ph|0704.0009|       Paul Harvey|The Spitzer c2d S...| 2010-03-18|[[Mon, 2 Apr 2007...|\n",
            "|  Partial cubes a...|[[Ovchinnikov, Se...|          math.CO|0704.0010|Sergei Ovchinnikov|Partial cubes: st...| 2007-05-23|[[Sat, 31 Mar 200...|\n",
            "|  In this paper w...|[[Cunningham, Cli...|  math.NT math.AG|0704.0011|Clifton Cunningham|Computing genus 2...| 2008-08-20|[[Sat, 31 Mar 200...|\n",
            "|  Recently, Bruin...|  [[Choi, Dohoon, ]]|          math.NT|0704.0012|       Dohoon Choi|Distribution of i...| 2007-05-23|[[Sat, 31 Mar 200...|\n",
            "|  Serre obtained ...|[[Choi, Dohoon, ]...|          math.NT|0704.0013|       Dohoon Choi|$p$-adic Limit of...| 2008-05-26|[[Sat, 31 Mar 200...|\n",
            "|  In this article...| [[Fujii, Koichi, ]]|  math.CA math.AT|0704.0014|      Koichi Fujii|Iterated integral...| 2009-09-29|[[Sun, 1 Apr 2007...|\n",
            "|  The pure spinor...|[[Stahn, Christia...|           hep-th|0704.0015|   Christian Stahn|Fermionic superst...| 2009-11-13|[[Mon, 2 Apr 2007...|\n",
            "|  In this work, w...|[[Chang, Chao-Hsi...|           hep-ph|0704.0016|           Li Tong|Lifetime of doubl...| 2008-12-18|[[Sat, 31 Mar 200...|\n",
            "|  Results from sp...|[[Mhlahlo, Nceba,...|         astro-ph|0704.0017|     Nceba Mhlahlo|Spectroscopic Obs...| 2009-06-23|[[Sat, 31 Mar 200...|\n",
            "|  We give a presc...|[[Gustavsson, And...|           hep-th|0704.0018|Andreas Gustavsson|In quest of a gen...| 2007-05-23|[[Mon, 2 Apr 2007...|\n",
            "|  In this note we...|  [[Konno, Norio, ]]|  math.PR math.AG|0704.0019|       Norio Konno|Approximation for...| 2007-06-23|[[Sat, 31 Mar 200...|\n",
            "|  The shape of th...|[[The BABAR Colla...|           hep-ex|0704.0020|   Patrick Roudeau|Measurement of th...| 2015-06-30|[[Sat, 31 Mar 200...|\n",
            "+--------------------+--------------------+-----------------+---------+------------------+--------------------+-----------+--------------------+\n",
            "only showing top 20 rows\n",
            "\n",
            "1781722\n"
          ],
          "name": "stdout"
        }
      ]
    },
    {
      "cell_type": "markdown",
      "metadata": {
        "id": "KfbsskpCgntn"
      },
      "source": [
        "We mainly plan on using the columns: abstract, authors parsed, categories and titles. We can see we have around 1.8 million data points.\n",
        "\n",
        "\n",
        "---\n",
        "\n",
        "## Parsing and reformatting the category column\n",
        "\n",
        "We next define two functions: \\\\\n",
        "**category_parser** -  Uses the dictionary *categories* to assign the Arxiv subcategories to broader groups (For example, assigning math.CO and math.FA to the broader group Math) \\\\\n",
        "**splitter** - Simply parses the original categories into a list to allow iteration later on."
      ]
    },
    {
      "cell_type": "code",
      "metadata": {
        "colab": {
          "base_uri": "https://localhost:8080/"
        },
        "id": "8lumjbCgCZ7H",
        "outputId": "41df7dcf-0bb3-43a8-f3c8-47a730bbb680"
      },
      "source": [
        "categories = {\r\n",
        "    'cs.': 'CS',\r\n",
        "    'econ.': 'Economics',\r\n",
        "    'eess.': 'Electric and Systems Engineering',\r\n",
        "    'math.': 'Math',\r\n",
        "    'astro-ph': 'Astrophysics',\r\n",
        "    'hep-': 'High-energy Physics',\r\n",
        "    'cond-mat.': 'Condensed Matter Physics',\r\n",
        "    'gr-qc': 'General Relativity and Cosmo',\r\n",
        "    'math-ph': 'Mathematical Physics',\r\n",
        "    'nlin.': 'Nonlinear Sciences',\r\n",
        "    'nucl-': 'Nuclear Physics',\r\n",
        "    'physics.': 'General Physics',\r\n",
        "    'quant-ph': 'Quantum Physics',\r\n",
        "    'q-bio.': 'Quantitative Bio',\r\n",
        "    'q-fin.': 'Quantitative Finance',\r\n",
        "    'stat.': 'Statistics'\r\n",
        "}\r\n",
        "def category_parser(cats):\r\n",
        "  list_of_cats = set()\r\n",
        "  for j in categories:\r\n",
        "    if j in cats:\r\n",
        "      list_of_cats.add(categories[j])\r\n",
        "  return list(list_of_cats)\r\n",
        "\r\n",
        "def splitter(to_split):\r\n",
        "  return to_split.split()\r\n",
        "\r\n",
        "spark.udf.register('CATEGORY_PARSER', category_parser, ArrayType(StringType()))\r\n",
        "spark.udf.register('SPLITTER', splitter, ArrayType(StringType()))"
      ],
      "execution_count": 13,
      "outputs": [
        {
          "output_type": "execute_result",
          "data": {
            "text/plain": [
              "<function __main__.splitter>"
            ]
          },
          "metadata": {
            "tags": []
          },
          "execution_count": 13
        }
      ]
    },
    {
      "cell_type": "markdown",
      "metadata": {
        "id": "nmP656UTvhlL"
      },
      "source": [
        "We next register these two UDF's with spark, and run a query on the table which creates the columns cats_parsed and cats_split by running the two functions on the category column. We then drop the category column, keeping only the new columns we added."
      ]
    },
    {
      "cell_type": "code",
      "metadata": {
        "colab": {
          "base_uri": "https://localhost:8080/"
        },
        "id": "LU6H6cySJLRo",
        "outputId": "e73546aa-a52c-41ac-e83d-82637a14e638"
      },
      "source": [
        "data_sdf.createOrReplaceTempView('data_sdf')\r\n",
        "query = '''SELECT CATEGORY_PARSER(categories) as cats_parsed, SPLITTER(categories) as cats_split, *\r\n",
        "          FROM data_sdf'''\r\n",
        "data_sdf_new = spark.sql(query).drop('categories')\r\n",
        "data_sdf_new.show()"
      ],
      "execution_count": 14,
      "outputs": [
        {
          "output_type": "stream",
          "text": [
            "+--------------------+-------------------+--------------------+--------------------+---------+------------------+--------------------+-----------+--------------------+\n",
            "|         cats_parsed|         cats_split|            abstract|      authors_parsed|       id|         submitter|               title|update_date|            versions|\n",
            "+--------------------+-------------------+--------------------+--------------------+---------+------------------+--------------------+-----------+--------------------+\n",
            "|[High-energy Phys...|           [hep-ph]|  A fully differe...|[[Balázs, C., ], ...|0704.0001|    Pavel Nadolsky|Calculation of pr...| 2008-11-26|[[Mon, 2 Apr 2007...|\n",
            "|          [Math, CS]|   [math.CO, cs.CG]|  We describe a n...|[[Streinu, Ileana...|0704.0002|      Louis Theran|Sparsity-certifyi...| 2008-12-13|[[Sat, 31 Mar 200...|\n",
            "|[CS, General Phys...|   [physics.gen-ph]|  The evolution o...|  [[Pan, Hongjun, ]]|0704.0003|       Hongjun Pan|The evolution of ...| 2008-01-13|[[Sun, 1 Apr 2007...|\n",
            "|              [Math]|          [math.CO]|  We show that a ...| [[Callan, David, ]]|0704.0004|      David Callan|A determinant of ...| 2007-05-23|[[Sat, 31 Mar 200...|\n",
            "|              [Math]| [math.CA, math.FA]|  In this paper w...|[[Abu-Shammala, W...|0704.0005|Alberto Torchinsky|From dyadic $\\Lam...| 2013-10-15|[[Mon, 2 Apr 2007...|\n",
            "|[Condensed Matter...|[cond-mat.mes-hall]|  We study the tw...|[[Pong, Y. H., ],...|0704.0006|      Yue Hin Pong|Bosonic character...| 2015-05-13|[[Sat, 31 Mar 200...|\n",
            "|[General Relativi...|            [gr-qc]|  A rather non-st...|[[Corichi, Alejan...|0704.0007| Alejandro Corichi|Polymer Quantum M...| 2008-11-26|[[Sat, 31 Mar 200...|\n",
            "|[Condensed Matter...|[cond-mat.mtrl-sci]|  A general formu...|[[Swift, Damian C...|0704.0008|      Damian Swift|Numerical solutio...| 2009-02-05|[[Sat, 31 Mar 200...|\n",
            "|      [Astrophysics]|         [astro-ph]|  We discuss the ...|[[Harvey, Paul, ]...|0704.0009|       Paul Harvey|The Spitzer c2d S...| 2010-03-18|[[Mon, 2 Apr 2007...|\n",
            "|              [Math]|          [math.CO]|  Partial cubes a...|[[Ovchinnikov, Se...|0704.0010|Sergei Ovchinnikov|Partial cubes: st...| 2007-05-23|[[Sat, 31 Mar 200...|\n",
            "|              [Math]| [math.NT, math.AG]|  In this paper w...|[[Cunningham, Cli...|0704.0011|Clifton Cunningham|Computing genus 2...| 2008-08-20|[[Sat, 31 Mar 200...|\n",
            "|              [Math]|          [math.NT]|  Recently, Bruin...|  [[Choi, Dohoon, ]]|0704.0012|       Dohoon Choi|Distribution of i...| 2007-05-23|[[Sat, 31 Mar 200...|\n",
            "|              [Math]|          [math.NT]|  Serre obtained ...|[[Choi, Dohoon, ]...|0704.0013|       Dohoon Choi|$p$-adic Limit of...| 2008-05-26|[[Sat, 31 Mar 200...|\n",
            "|              [Math]| [math.CA, math.AT]|  In this article...| [[Fujii, Koichi, ]]|0704.0014|      Koichi Fujii|Iterated integral...| 2009-09-29|[[Sun, 1 Apr 2007...|\n",
            "|[High-energy Phys...|           [hep-th]|  The pure spinor...|[[Stahn, Christia...|0704.0015|   Christian Stahn|Fermionic superst...| 2009-11-13|[[Mon, 2 Apr 2007...|\n",
            "|[High-energy Phys...|           [hep-ph]|  In this work, w...|[[Chang, Chao-Hsi...|0704.0016|           Li Tong|Lifetime of doubl...| 2008-12-18|[[Sat, 31 Mar 200...|\n",
            "|      [Astrophysics]|         [astro-ph]|  Results from sp...|[[Mhlahlo, Nceba,...|0704.0017|     Nceba Mhlahlo|Spectroscopic Obs...| 2009-06-23|[[Sat, 31 Mar 200...|\n",
            "|[High-energy Phys...|           [hep-th]|  We give a presc...|[[Gustavsson, And...|0704.0018|Andreas Gustavsson|In quest of a gen...| 2007-05-23|[[Mon, 2 Apr 2007...|\n",
            "|              [Math]| [math.PR, math.AG]|  In this note we...|  [[Konno, Norio, ]]|0704.0019|       Norio Konno|Approximation for...| 2007-06-23|[[Sat, 31 Mar 200...|\n",
            "|[High-energy Phys...|           [hep-ex]|  The shape of th...|[[The BABAR Colla...|0704.0020|   Patrick Roudeau|Measurement of th...| 2015-06-30|[[Sat, 31 Mar 200...|\n",
            "+--------------------+-------------------+--------------------+--------------------+---------+------------------+--------------------+-----------+--------------------+\n",
            "only showing top 20 rows\n",
            "\n"
          ],
          "name": "stdout"
        }
      ]
    },
    {
      "cell_type": "markdown",
      "metadata": {
        "id": "j8UxrUzDw4_f"
      },
      "source": [
        "## Visualizing the data.\n",
        "\n",
        "We first begin by exploding cats_parsed. We want to run a groupby operation to count the number of papers in each category. "
      ]
    },
    {
      "cell_type": "code",
      "metadata": {
        "colab": {
          "base_uri": "https://localhost:8080/"
        },
        "id": "lXwdFdhqQThc",
        "outputId": "71ce9f6b-83d5-4542-8ff7-dcec71e005ee"
      },
      "source": [
        "data_sdf_new.withColumn(\"cats_parsed\", F.explode(data_sdf_new.cats_parsed)).show()\r\n",
        "cats_parsed_sdf = data_sdf_new.withColumn(\"cats_parsed\", F.explode(data_sdf_new.cats_parsed))\r\n",
        "cats_parsed_sdf.createOrReplaceTempView('cats_counter')\r\n",
        "\r\n",
        "cats_parsed_sdf = spark.sql('''\r\n",
        "SELECT cats_parsed AS Category, COUNT(cats_parsed) as count \r\n",
        "FROM cats_counter \r\n",
        "GROUP BY cats_parsed\r\n",
        "ORDER BY count DESC''')\r\n",
        "\r\n",
        "cats_parsed_sdf.show()\r\n"
      ],
      "execution_count": 15,
      "outputs": [
        {
          "output_type": "stream",
          "text": [
            "+--------------------+-------------------+--------------------+--------------------+---------+------------------+--------------------+-----------+--------------------+\n",
            "|         cats_parsed|         cats_split|            abstract|      authors_parsed|       id|         submitter|               title|update_date|            versions|\n",
            "+--------------------+-------------------+--------------------+--------------------+---------+------------------+--------------------+-----------+--------------------+\n",
            "| High-energy Physics|           [hep-ph]|  A fully differe...|[[Balázs, C., ], ...|0704.0001|    Pavel Nadolsky|Calculation of pr...| 2008-11-26|[[Mon, 2 Apr 2007...|\n",
            "|                Math|   [math.CO, cs.CG]|  We describe a n...|[[Streinu, Ileana...|0704.0002|      Louis Theran|Sparsity-certifyi...| 2008-12-13|[[Sat, 31 Mar 200...|\n",
            "|                  CS|   [math.CO, cs.CG]|  We describe a n...|[[Streinu, Ileana...|0704.0002|      Louis Theran|Sparsity-certifyi...| 2008-12-13|[[Sat, 31 Mar 200...|\n",
            "|                  CS|   [physics.gen-ph]|  The evolution o...|  [[Pan, Hongjun, ]]|0704.0003|       Hongjun Pan|The evolution of ...| 2008-01-13|[[Sun, 1 Apr 2007...|\n",
            "|     General Physics|   [physics.gen-ph]|  The evolution o...|  [[Pan, Hongjun, ]]|0704.0003|       Hongjun Pan|The evolution of ...| 2008-01-13|[[Sun, 1 Apr 2007...|\n",
            "|                Math|          [math.CO]|  We show that a ...| [[Callan, David, ]]|0704.0004|      David Callan|A determinant of ...| 2007-05-23|[[Sat, 31 Mar 200...|\n",
            "|                Math| [math.CA, math.FA]|  In this paper w...|[[Abu-Shammala, W...|0704.0005|Alberto Torchinsky|From dyadic $\\Lam...| 2013-10-15|[[Mon, 2 Apr 2007...|\n",
            "|Condensed Matter ...|[cond-mat.mes-hall]|  We study the tw...|[[Pong, Y. H., ],...|0704.0006|      Yue Hin Pong|Bosonic character...| 2015-05-13|[[Sat, 31 Mar 200...|\n",
            "|General Relativit...|            [gr-qc]|  A rather non-st...|[[Corichi, Alejan...|0704.0007| Alejandro Corichi|Polymer Quantum M...| 2008-11-26|[[Sat, 31 Mar 200...|\n",
            "|Condensed Matter ...|[cond-mat.mtrl-sci]|  A general formu...|[[Swift, Damian C...|0704.0008|      Damian Swift|Numerical solutio...| 2009-02-05|[[Sat, 31 Mar 200...|\n",
            "|        Astrophysics|         [astro-ph]|  We discuss the ...|[[Harvey, Paul, ]...|0704.0009|       Paul Harvey|The Spitzer c2d S...| 2010-03-18|[[Mon, 2 Apr 2007...|\n",
            "|                Math|          [math.CO]|  Partial cubes a...|[[Ovchinnikov, Se...|0704.0010|Sergei Ovchinnikov|Partial cubes: st...| 2007-05-23|[[Sat, 31 Mar 200...|\n",
            "|                Math| [math.NT, math.AG]|  In this paper w...|[[Cunningham, Cli...|0704.0011|Clifton Cunningham|Computing genus 2...| 2008-08-20|[[Sat, 31 Mar 200...|\n",
            "|                Math|          [math.NT]|  Recently, Bruin...|  [[Choi, Dohoon, ]]|0704.0012|       Dohoon Choi|Distribution of i...| 2007-05-23|[[Sat, 31 Mar 200...|\n",
            "|                Math|          [math.NT]|  Serre obtained ...|[[Choi, Dohoon, ]...|0704.0013|       Dohoon Choi|$p$-adic Limit of...| 2008-05-26|[[Sat, 31 Mar 200...|\n",
            "|                Math| [math.CA, math.AT]|  In this article...| [[Fujii, Koichi, ]]|0704.0014|      Koichi Fujii|Iterated integral...| 2009-09-29|[[Sun, 1 Apr 2007...|\n",
            "| High-energy Physics|           [hep-th]|  The pure spinor...|[[Stahn, Christia...|0704.0015|   Christian Stahn|Fermionic superst...| 2009-11-13|[[Mon, 2 Apr 2007...|\n",
            "| High-energy Physics|           [hep-ph]|  In this work, w...|[[Chang, Chao-Hsi...|0704.0016|           Li Tong|Lifetime of doubl...| 2008-12-18|[[Sat, 31 Mar 200...|\n",
            "|        Astrophysics|         [astro-ph]|  Results from sp...|[[Mhlahlo, Nceba,...|0704.0017|     Nceba Mhlahlo|Spectroscopic Obs...| 2009-06-23|[[Sat, 31 Mar 200...|\n",
            "| High-energy Physics|           [hep-th]|  We give a presc...|[[Gustavsson, And...|0704.0018|Andreas Gustavsson|In quest of a gen...| 2007-05-23|[[Mon, 2 Apr 2007...|\n",
            "+--------------------+-------------------+--------------------+--------------------+---------+------------------+--------------------+-----------+--------------------+\n",
            "only showing top 20 rows\n",
            "\n",
            "+--------------------+------+\n",
            "|            Category| count|\n",
            "+--------------------+------+\n",
            "|                  CS|479816|\n",
            "|                Math|477411|\n",
            "| High-energy Physics|293311|\n",
            "|Condensed Matter ...|284333|\n",
            "|        Astrophysics|278491|\n",
            "|     General Physics|179962|\n",
            "|     Quantum Physics|107897|\n",
            "|General Relativit...| 83822|\n",
            "|          Statistics| 81570|\n",
            "|Mathematical Physics| 63413|\n",
            "|     Nuclear Physics| 59319|\n",
            "|  Nonlinear Sciences| 35125|\n",
            "|    Quantitative Bio| 31713|\n",
            "|Electric and Syst...| 28179|\n",
            "|Quantitative Finance| 12143|\n",
            "|           Economics|  3106|\n",
            "+--------------------+------+\n",
            "\n"
          ],
          "name": "stdout"
        }
      ]
    },
    {
      "cell_type": "markdown",
      "metadata": {
        "id": "0Y3VUDU3xTBz"
      },
      "source": [
        "We can see CS and Math top the list as the most common categories, and economics comes out as the least common.\n",
        "\n",
        "\n",
        "---\n",
        "\n",
        "We next repeat this same process on cats_split. We explode the column and then groupby to count the number of occurrences of each sub-category. This will give us more info on which specific sub-topics are most common in the Arxiv database."
      ]
    },
    {
      "cell_type": "code",
      "metadata": {
        "colab": {
          "base_uri": "https://localhost:8080/"
        },
        "id": "NrmOisnDhy9M",
        "outputId": "a57ddbe2-7021-41e0-bbbb-453a0ff086eb"
      },
      "source": [
        "data_sdf_new.withColumn(\"cats_split\", F.explode(data_sdf_new.cats_split)).show()\n",
        "categories_sdf = data_sdf_new.withColumn(\"cats_split\", F.explode(data_sdf_new.cats_split))\n",
        "categories_sdf.createOrReplaceTempView('cats_split')\n",
        "\n",
        "cats_split_sdf = spark.sql('''\n",
        "SELECT cats_split AS Category, COUNT(cats_split) as count \n",
        "FROM cats_split\n",
        "GROUP BY cats_split\n",
        "ORDER BY count DESC\n",
        "''')\n"
      ],
      "execution_count": 16,
      "outputs": [
        {
          "output_type": "stream",
          "text": [
            "+--------------------+-----------------+--------------------+--------------------+---------+------------------+--------------------+-----------+--------------------+\n",
            "|         cats_parsed|       cats_split|            abstract|      authors_parsed|       id|         submitter|               title|update_date|            versions|\n",
            "+--------------------+-----------------+--------------------+--------------------+---------+------------------+--------------------+-----------+--------------------+\n",
            "|[High-energy Phys...|           hep-ph|  A fully differe...|[[Balázs, C., ], ...|0704.0001|    Pavel Nadolsky|Calculation of pr...| 2008-11-26|[[Mon, 2 Apr 2007...|\n",
            "|          [Math, CS]|          math.CO|  We describe a n...|[[Streinu, Ileana...|0704.0002|      Louis Theran|Sparsity-certifyi...| 2008-12-13|[[Sat, 31 Mar 200...|\n",
            "|          [Math, CS]|            cs.CG|  We describe a n...|[[Streinu, Ileana...|0704.0002|      Louis Theran|Sparsity-certifyi...| 2008-12-13|[[Sat, 31 Mar 200...|\n",
            "|[CS, General Phys...|   physics.gen-ph|  The evolution o...|  [[Pan, Hongjun, ]]|0704.0003|       Hongjun Pan|The evolution of ...| 2008-01-13|[[Sun, 1 Apr 2007...|\n",
            "|              [Math]|          math.CO|  We show that a ...| [[Callan, David, ]]|0704.0004|      David Callan|A determinant of ...| 2007-05-23|[[Sat, 31 Mar 200...|\n",
            "|              [Math]|          math.CA|  In this paper w...|[[Abu-Shammala, W...|0704.0005|Alberto Torchinsky|From dyadic $\\Lam...| 2013-10-15|[[Mon, 2 Apr 2007...|\n",
            "|              [Math]|          math.FA|  In this paper w...|[[Abu-Shammala, W...|0704.0005|Alberto Torchinsky|From dyadic $\\Lam...| 2013-10-15|[[Mon, 2 Apr 2007...|\n",
            "|[Condensed Matter...|cond-mat.mes-hall|  We study the tw...|[[Pong, Y. H., ],...|0704.0006|      Yue Hin Pong|Bosonic character...| 2015-05-13|[[Sat, 31 Mar 200...|\n",
            "|[General Relativi...|            gr-qc|  A rather non-st...|[[Corichi, Alejan...|0704.0007| Alejandro Corichi|Polymer Quantum M...| 2008-11-26|[[Sat, 31 Mar 200...|\n",
            "|[Condensed Matter...|cond-mat.mtrl-sci|  A general formu...|[[Swift, Damian C...|0704.0008|      Damian Swift|Numerical solutio...| 2009-02-05|[[Sat, 31 Mar 200...|\n",
            "|      [Astrophysics]|         astro-ph|  We discuss the ...|[[Harvey, Paul, ]...|0704.0009|       Paul Harvey|The Spitzer c2d S...| 2010-03-18|[[Mon, 2 Apr 2007...|\n",
            "|              [Math]|          math.CO|  Partial cubes a...|[[Ovchinnikov, Se...|0704.0010|Sergei Ovchinnikov|Partial cubes: st...| 2007-05-23|[[Sat, 31 Mar 200...|\n",
            "|              [Math]|          math.NT|  In this paper w...|[[Cunningham, Cli...|0704.0011|Clifton Cunningham|Computing genus 2...| 2008-08-20|[[Sat, 31 Mar 200...|\n",
            "|              [Math]|          math.AG|  In this paper w...|[[Cunningham, Cli...|0704.0011|Clifton Cunningham|Computing genus 2...| 2008-08-20|[[Sat, 31 Mar 200...|\n",
            "|              [Math]|          math.NT|  Recently, Bruin...|  [[Choi, Dohoon, ]]|0704.0012|       Dohoon Choi|Distribution of i...| 2007-05-23|[[Sat, 31 Mar 200...|\n",
            "|              [Math]|          math.NT|  Serre obtained ...|[[Choi, Dohoon, ]...|0704.0013|       Dohoon Choi|$p$-adic Limit of...| 2008-05-26|[[Sat, 31 Mar 200...|\n",
            "|              [Math]|          math.CA|  In this article...| [[Fujii, Koichi, ]]|0704.0014|      Koichi Fujii|Iterated integral...| 2009-09-29|[[Sun, 1 Apr 2007...|\n",
            "|              [Math]|          math.AT|  In this article...| [[Fujii, Koichi, ]]|0704.0014|      Koichi Fujii|Iterated integral...| 2009-09-29|[[Sun, 1 Apr 2007...|\n",
            "|[High-energy Phys...|           hep-th|  The pure spinor...|[[Stahn, Christia...|0704.0015|   Christian Stahn|Fermionic superst...| 2009-11-13|[[Mon, 2 Apr 2007...|\n",
            "|[High-energy Phys...|           hep-ph|  In this work, w...|[[Chang, Chao-Hsi...|0704.0016|           Li Tong|Lifetime of doubl...| 2008-12-18|[[Sat, 31 Mar 200...|\n",
            "+--------------------+-----------------+--------------------+--------------------+---------+------------------+--------------------+-----------+--------------------+\n",
            "only showing top 20 rows\n",
            "\n"
          ],
          "name": "stdout"
        }
      ]
    },
    {
      "cell_type": "code",
      "metadata": {
        "colab": {
          "base_uri": "https://localhost:8080/"
        },
        "id": "ldyuEe1YjAvd",
        "outputId": "d7704b41-2991-4872-8972-4303baca3b7a"
      },
      "source": [
        "cats_split_sdf.createOrReplaceTempView('cats_split')\n",
        "cats_split_sdf = spark.sql('''\n",
        "SELECT *\n",
        "FROM cats_split\n",
        "where count > 175 and not category='comp-gas' and not category='chem-ph' and not category='mtrl-th' \n",
        "and not category='funct-an' and not category='adap-org' and not category='patt-sol' and not category='dg-ga'\n",
        "and not category='cmp-lg' and not category='alg-geom' and not category='solv-int' and not category='q-bio'\n",
        "and not category='q-alg' ''')\n",
        "cats_split_sdf.show()"
      ],
      "execution_count": 17,
      "outputs": [
        {
          "output_type": "stream",
          "text": [
            "+------------------+------+\n",
            "|          Category| count|\n",
            "+------------------+------+\n",
            "|            hep-ph|148505|\n",
            "|            hep-th|136186|\n",
            "|          quant-ph|107897|\n",
            "|          astro-ph|103604|\n",
            "|             gr-qc| 83822|\n",
            "| cond-mat.mes-hall| 70872|\n",
            "|             cs.LG| 70001|\n",
            "| cond-mat.mtrl-sci| 67589|\n",
            "|           math.MP| 63413|\n",
            "|           math-ph| 63413|\n",
            "|cond-mat.stat-mech| 60088|\n",
            "|   cond-mat.str-el| 58498|\n",
            "|       astro-ph.CO| 52751|\n",
            "|             cs.CV| 48908|\n",
            "|           math.CO| 47439|\n",
            "|           nucl-th| 47357|\n",
            "|           stat.ML| 46467|\n",
            "|       astro-ph.SR| 45082|\n",
            "|       astro-ph.GA| 44245|\n",
            "|           math.AP| 43426|\n",
            "+------------------+------+\n",
            "only showing top 20 rows\n",
            "\n"
          ],
          "name": "stdout"
        }
      ]
    },
    {
      "cell_type": "markdown",
      "metadata": {
        "id": "j7rlHloeyXJK"
      },
      "source": [
        "After dropping mis-formatted categories (those not listed on the Arxiv site) such as *comp-gas* and *chem-ph*, we again return the subcategories in order of most occurrences. We see now, that the most common subcategories are high energy physics, quantum physics, and astrophysics, while math and CS subcategories have less occurrences. \\\\\n",
        "\n",
        "\\\\\n",
        "\n",
        "Finally, we print out the count of our table below, and see that there exist 158 unique subcategories with at least 1 occurrence ."
      ]
    },
    {
      "cell_type": "code",
      "metadata": {
        "colab": {
          "base_uri": "https://localhost:8080/"
        },
        "id": "VJRTB6ARPXii",
        "outputId": "9d5e1309-d58f-49cd-931d-2ff3df373ec7"
      },
      "source": [
        "print(cats_split_sdf.count())"
      ],
      "execution_count": 18,
      "outputs": [
        {
          "output_type": "stream",
          "text": [
            "158\n"
          ],
          "name": "stdout"
        }
      ]
    },
    {
      "cell_type": "markdown",
      "metadata": {
        "id": "Y5ajpncV0m2B"
      },
      "source": [
        "### Plotting the data"
      ]
    },
    {
      "cell_type": "markdown",
      "metadata": {
        "id": "mO8AvECA_haj"
      },
      "source": [
        "Here we plot the number of occurrences of each general category using pandas and matplotlib. "
      ]
    },
    {
      "cell_type": "code",
      "metadata": {
        "id": "6_fMus5-m_4i"
      },
      "source": [
        "cats_split_pd = cats_split_sdf.toPandas()\r\n",
        "cats_parsed_pd = cats_parsed_sdf.toPandas()"
      ],
      "execution_count": 19,
      "outputs": []
    },
    {
      "cell_type": "code",
      "metadata": {
        "colab": {
          "base_uri": "https://localhost:8080/",
          "height": 764
        },
        "id": "wYwodLscncvE",
        "outputId": "08033a45-d1be-4206-94b1-b88dd1defafd"
      },
      "source": [
        "ax = cats_parsed_pd.plot.bar(x='Category', y='count', rot=85, figsize=(15,10))"
      ],
      "execution_count": 20,
      "outputs": [
        {
          "output_type": "display_data",
          "data": {
            "image/png": "[encoded data removed]",
            "text/plain": [
              "<Figure size 1080x720 with 1 Axes>"
            ]
          },
          "metadata": {
            "tags": [],
            "needs_background": "light"
          }
        }
      ]
    },
    {
      "cell_type": "markdown",
      "metadata": {
        "id": "YrMoDfzq_man"
      },
      "source": [
        "Here we plot the number of occurrences of the more granular categories using pandas and matplotlib."
      ]
    },
    {
      "cell_type": "code",
      "metadata": {
        "colab": {
          "base_uri": "https://localhost:8080/",
          "height": 537
        },
        "id": "GbsoD0mVojxM",
        "outputId": "f2f04942-b1b3-490a-d9b0-46c36fb524fa"
      },
      "source": [
        "ax = cats_split_pd.plot.bar(x='Category', y='count', rot=85, figsize=(25,10))"
      ],
      "execution_count": 21,
      "outputs": [
        {
          "output_type": "display_data",
          "data": {
            "image/png": "[encoded data removed]",
            "text/plain": [
              "<Figure size 1800x720 with 1 Axes>"
            ]
          },
          "metadata": {
            "tags": [],
            "needs_background": "light"
          }
        }
      ]
    },
    {
      "cell_type": "markdown",
      "metadata": {
        "id": "tBzMC1Df_rfz"
      },
      "source": [
        "**Unsurprisingly, we see that these are both heavy-tailed distributions**"
      ]
    },
    {
      "cell_type": "code",
      "metadata": {
        "id": "60Ld1d4wWce6",
        "colab": {
          "base_uri": "https://localhost:8080/"
        },
        "outputId": "dd0d6869-7c68-4f52-e9e4-96f616e1fcb5"
      },
      "source": [
        "def len_list(l):\n",
        "  return len(l)\n",
        "spark.udf.register('LEN_LIST', len_list, IntegerType())"
      ],
      "execution_count": 22,
      "outputs": [
        {
          "output_type": "execute_result",
          "data": {
            "text/plain": [
              "<function __main__.len_list>"
            ]
          },
          "metadata": {
            "tags": []
          },
          "execution_count": 22
        }
      ]
    },
    {
      "cell_type": "code",
      "metadata": {
        "id": "DTAgO2KuWeVh"
      },
      "source": [
        "num_authors_sdf = spark.sql('''SELECT LEN_LIST(authors_parsed) as num_authors FROM data_sdf WHERE LEN_LIST(authors_parsed) > 39''')\n",
        "num_authors_df = num_authors_sdf.toPandas()"
      ],
      "execution_count": 23,
      "outputs": []
    },
    {
      "cell_type": "code",
      "metadata": {
        "id": "4fW9NumYWkYa",
        "colab": {
          "base_uri": "https://localhost:8080/",
          "height": 283
        },
        "outputId": "e939d58b-54fd-4fba-e156-608fa7b3d59b"
      },
      "source": [
        "num_authors_df.plot.hist(bins=20)"
      ],
      "execution_count": 24,
      "outputs": [
        {
          "output_type": "execute_result",
          "data": {
            "text/plain": [
              "<matplotlib.axes._subplots.AxesSubplot at 0x7f094e9aada0>"
            ]
          },
          "metadata": {
            "tags": []
          },
          "execution_count": 24
        },
        {
          "output_type": "display_data",
          "data": {
            "image/png": "[encoded data removed]",
            "text/plain": [
              "<Figure size 432x288 with 1 Axes>"
            ]
          },
          "metadata": {
            "tags": [],
            "needs_background": "light"
          }
        }
      ]
    },
    {
      "cell_type": "code",
      "metadata": {
        "id": "K2g0Fw9vWnVr"
      },
      "source": [
        "num_authors_sdf = spark.sql('''SELECT LEN_LIST(authors_parsed) as num_authors FROM data_sdf WHERE LEN_LIST(authors_parsed) < 40''')\n",
        "num_authors_df = num_authors_sdf.toPandas()"
      ],
      "execution_count": 25,
      "outputs": []
    },
    {
      "cell_type": "code",
      "metadata": {
        "id": "78ONw7LJAUkh",
        "colab": {
          "base_uri": "https://localhost:8080/",
          "height": 283
        },
        "outputId": "69c857ee-b23a-4731-bdcd-a148daa80f4c"
      },
      "source": [
        "num_authors_df.plot.hist(bins=20)"
      ],
      "execution_count": 26,
      "outputs": [
        {
          "output_type": "execute_result",
          "data": {
            "text/plain": [
              "<matplotlib.axes._subplots.AxesSubplot at 0x7f094f030cf8>"
            ]
          },
          "metadata": {
            "tags": []
          },
          "execution_count": 26
        },
        {
          "output_type": "display_data",
          "data": {
            "image/png": "[encoded data removed]",
            "text/plain": [
              "<Figure size 432x288 with 1 Axes>"
            ]
          },
          "metadata": {
            "tags": [],
            "needs_background": "light"
          }
        }
      ]
    },
    {
      "cell_type": "markdown",
      "metadata": {
        "id": "7I_17BP9ANAk"
      },
      "source": [
        "These histograms represent the frequency of the number of authors per paper. This needed to be broken into two histograms, one for papers with greater than or equal to 40 authors (the first histogram) and one for papers with fewer than 40 authors (the second histogram). This needed to be done because there are a very large number of papers with relatively few authors, and a small number of papers with many authors. "
      ]
    },
    {
      "cell_type": "code",
      "metadata": {
        "id": "Rr9b1YPdWsa-"
      },
      "source": [
        "data_sdf_new.createOrReplaceTempView('df_new')\n",
        "spark.sql(\"SELECT EXPLODE(cats_parsed) as cat, LEN_LIST(authors_parsed) as num_auth FROM df_new\").createOrReplaceTempView('num_per_cat')\n",
        "auth_per_cat_df = spark.sql('SELECT cat as Category, AVG(num_auth) as AvgNumAuthors FROM num_per_cat GROUP BY cat').toPandas()"
      ],
      "execution_count": 27,
      "outputs": []
    },
    {
      "cell_type": "code",
      "metadata": {
        "id": "Lh5qtTZeWvaR",
        "colab": {
          "base_uri": "https://localhost:8080/",
          "height": 764
        },
        "outputId": "673a36fa-cbe5-4b57-e464-af3d0f91d8cc"
      },
      "source": [
        "ax = auth_per_cat_df.plot.bar(x='Category', y='AvgNumAuthors', rot=85, figsize=(15,10))"
      ],
      "execution_count": 28,
      "outputs": [
        {
          "output_type": "display_data",
          "data": {
            "image/png": "[encoded data removed]",
            "text/plain": [
              "<Figure size 1080x720 with 1 Axes>"
            ]
          },
          "metadata": {
            "tags": [],
            "needs_background": "light"
          }
        }
      ]
    },
    {
      "cell_type": "markdown",
      "metadata": {
        "id": "fmFXZIcGAcxI"
      },
      "source": [
        "This bar plot represents the average number of authors for a paper in a specific category. Interestingly, nuclear physics has on average the most authors per paper."
      ]
    },
    {
      "cell_type": "markdown",
      "metadata": {
        "id": "pusqTwfW1g2Z"
      },
      "source": [
        "## Creating the graph for PageRank\n",
        "\n",
        "For our graph, we want the categories to behave as vertices, and authors as edges. Thus, we will start with categories_sdf, where our vertices(cats_split) are already exploded."
      ]
    },
    {
      "cell_type": "code",
      "metadata": {
        "colab": {
          "base_uri": "https://localhost:8080/"
        },
        "id": "p6cQH0XVsQto",
        "outputId": "c1ea4847-1776-4c5c-f841-1371f4c5ad70"
      },
      "source": [
        "categories_sdf.show()"
      ],
      "execution_count": 29,
      "outputs": [
        {
          "output_type": "stream",
          "text": [
            "+--------------------+-----------------+--------------------+--------------------+---------+------------------+--------------------+-----------+--------------------+\n",
            "|         cats_parsed|       cats_split|            abstract|      authors_parsed|       id|         submitter|               title|update_date|            versions|\n",
            "+--------------------+-----------------+--------------------+--------------------+---------+------------------+--------------------+-----------+--------------------+\n",
            "|[High-energy Phys...|           hep-ph|  A fully differe...|[[Balázs, C., ], ...|0704.0001|    Pavel Nadolsky|Calculation of pr...| 2008-11-26|[[Mon, 2 Apr 2007...|\n",
            "|          [Math, CS]|          math.CO|  We describe a n...|[[Streinu, Ileana...|0704.0002|      Louis Theran|Sparsity-certifyi...| 2008-12-13|[[Sat, 31 Mar 200...|\n",
            "|          [Math, CS]|            cs.CG|  We describe a n...|[[Streinu, Ileana...|0704.0002|      Louis Theran|Sparsity-certifyi...| 2008-12-13|[[Sat, 31 Mar 200...|\n",
            "|[CS, General Phys...|   physics.gen-ph|  The evolution o...|  [[Pan, Hongjun, ]]|0704.0003|       Hongjun Pan|The evolution of ...| 2008-01-13|[[Sun, 1 Apr 2007...|\n",
            "|              [Math]|          math.CO|  We show that a ...| [[Callan, David, ]]|0704.0004|      David Callan|A determinant of ...| 2007-05-23|[[Sat, 31 Mar 200...|\n",
            "|              [Math]|          math.CA|  In this paper w...|[[Abu-Shammala, W...|0704.0005|Alberto Torchinsky|From dyadic $\\Lam...| 2013-10-15|[[Mon, 2 Apr 2007...|\n",
            "|              [Math]|          math.FA|  In this paper w...|[[Abu-Shammala, W...|0704.0005|Alberto Torchinsky|From dyadic $\\Lam...| 2013-10-15|[[Mon, 2 Apr 2007...|\n",
            "|[Condensed Matter...|cond-mat.mes-hall|  We study the tw...|[[Pong, Y. H., ],...|0704.0006|      Yue Hin Pong|Bosonic character...| 2015-05-13|[[Sat, 31 Mar 200...|\n",
            "|[General Relativi...|            gr-qc|  A rather non-st...|[[Corichi, Alejan...|0704.0007| Alejandro Corichi|Polymer Quantum M...| 2008-11-26|[[Sat, 31 Mar 200...|\n",
            "|[Condensed Matter...|cond-mat.mtrl-sci|  A general formu...|[[Swift, Damian C...|0704.0008|      Damian Swift|Numerical solutio...| 2009-02-05|[[Sat, 31 Mar 200...|\n",
            "|      [Astrophysics]|         astro-ph|  We discuss the ...|[[Harvey, Paul, ]...|0704.0009|       Paul Harvey|The Spitzer c2d S...| 2010-03-18|[[Mon, 2 Apr 2007...|\n",
            "|              [Math]|          math.CO|  Partial cubes a...|[[Ovchinnikov, Se...|0704.0010|Sergei Ovchinnikov|Partial cubes: st...| 2007-05-23|[[Sat, 31 Mar 200...|\n",
            "|              [Math]|          math.NT|  In this paper w...|[[Cunningham, Cli...|0704.0011|Clifton Cunningham|Computing genus 2...| 2008-08-20|[[Sat, 31 Mar 200...|\n",
            "|              [Math]|          math.AG|  In this paper w...|[[Cunningham, Cli...|0704.0011|Clifton Cunningham|Computing genus 2...| 2008-08-20|[[Sat, 31 Mar 200...|\n",
            "|              [Math]|          math.NT|  Recently, Bruin...|  [[Choi, Dohoon, ]]|0704.0012|       Dohoon Choi|Distribution of i...| 2007-05-23|[[Sat, 31 Mar 200...|\n",
            "|              [Math]|          math.NT|  Serre obtained ...|[[Choi, Dohoon, ]...|0704.0013|       Dohoon Choi|$p$-adic Limit of...| 2008-05-26|[[Sat, 31 Mar 200...|\n",
            "|              [Math]|          math.CA|  In this article...| [[Fujii, Koichi, ]]|0704.0014|      Koichi Fujii|Iterated integral...| 2009-09-29|[[Sun, 1 Apr 2007...|\n",
            "|              [Math]|          math.AT|  In this article...| [[Fujii, Koichi, ]]|0704.0014|      Koichi Fujii|Iterated integral...| 2009-09-29|[[Sun, 1 Apr 2007...|\n",
            "|[High-energy Phys...|           hep-th|  The pure spinor...|[[Stahn, Christia...|0704.0015|   Christian Stahn|Fermionic superst...| 2009-11-13|[[Mon, 2 Apr 2007...|\n",
            "|[High-energy Phys...|           hep-ph|  In this work, w...|[[Chang, Chao-Hsi...|0704.0016|           Li Tong|Lifetime of doubl...| 2008-12-18|[[Sat, 31 Mar 200...|\n",
            "+--------------------+-----------------+--------------------+--------------------+---------+------------------+--------------------+-----------+--------------------+\n",
            "only showing top 20 rows\n",
            "\n"
          ],
          "name": "stdout"
        }
      ]
    },
    {
      "cell_type": "markdown",
      "metadata": {
        "id": "WIS9oz_G3HZm"
      },
      "source": [
        "We next drop columns except for authors and categories. In our query, we again drop all misformatted categories, and then explode authors. This gives us a table the contains every relationship between an author and a category in our the dataset. In other words, every edge/vertex relationship which will be in our graph."
      ]
    },
    {
      "cell_type": "code",
      "metadata": {
        "colab": {
          "base_uri": "https://localhost:8080/"
        },
        "id": "6if5t_OI7S3F",
        "outputId": "3c41bbdc-3a20-4d4e-f881-58a0c46c3f58"
      },
      "source": [
        "categories_sdf.createOrReplaceTempView('categories_sdf')\n",
        "authors_sdf = spark.sql('''\n",
        "SELECT authors_parsed as authors, cats_split as categories\n",
        "FROM categories_sdf\n",
        "where not cats_split='comp-gas' and not cats_split='chem-ph' and not cats_split='mtrl-th' \n",
        "and not cats_split='funct-an' and not cats_split='adap-org' and not cats_split='patt-sol' and not cats_split='dg-ga'\n",
        "and not cats_split='cmp-lg' and not cats_split='alg-geom' and not cats_split='solv-int' and not cats_split='q-bio'\n",
        "and not cats_split='q-alg' and not cats_split='bayes-an' and not cats_split='ao-sci' and not cats_split='plasm-ph'\n",
        "and not cats_split='acc-phys' and not cats_split='atom-ph' and not cats_split='supr-con' ''')\n",
        "\n",
        "authors_sdf = authors_sdf.withColumn(\"authors\", F.explode(authors_sdf.authors))\n",
        "authors_sdf.show()"
      ],
      "execution_count": 30,
      "outputs": [
        {
          "output_type": "stream",
          "text": [
            "+--------------------+-----------------+\n",
            "|             authors|       categories|\n",
            "+--------------------+-----------------+\n",
            "|      [Balázs, C., ]|           hep-ph|\n",
            "|   [Berger, E. L., ]|           hep-ph|\n",
            "| [Nadolsky, P. M., ]|           hep-ph|\n",
            "|    [Yuan, C. -P., ]|           hep-ph|\n",
            "| [Streinu, Ileana, ]|          math.CO|\n",
            "|   [Theran, Louis, ]|          math.CO|\n",
            "| [Streinu, Ileana, ]|            cs.CG|\n",
            "|   [Theran, Louis, ]|            cs.CG|\n",
            "|    [Pan, Hongjun, ]|   physics.gen-ph|\n",
            "|   [Callan, David, ]|          math.CO|\n",
            "|[Abu-Shammala, Wa...|          math.CA|\n",
            "|[Torchinsky, Albe...|          math.CA|\n",
            "|[Abu-Shammala, Wa...|          math.FA|\n",
            "|[Torchinsky, Albe...|          math.FA|\n",
            "|     [Pong, Y. H., ]|cond-mat.mes-hall|\n",
            "|      [Law, C. K., ]|cond-mat.mes-hall|\n",
            "|[Corichi, Alejand...|            gr-qc|\n",
            "|[Vukasinac, Tatja...|            gr-qc|\n",
            "| [Zapata, Jose A., ]|            gr-qc|\n",
            "|[Swift, Damian C., ]|cond-mat.mtrl-sci|\n",
            "+--------------------+-----------------+\n",
            "only showing top 20 rows\n",
            "\n"
          ],
          "name": "stdout"
        }
      ]
    },
    {
      "cell_type": "markdown",
      "metadata": {
        "id": "BCeM3wlA4JC2"
      },
      "source": [
        "We run a groupby operation on authors. For every author in the table, this gives us a list of every category they have written in, or has a paper related to. "
      ]
    },
    {
      "cell_type": "code",
      "metadata": {
        "colab": {
          "base_uri": "https://localhost:8080/"
        },
        "id": "Lyxz3tcq-yni",
        "outputId": "252ba0c5-34e3-467b-bc5c-17fd23b0cc7e"
      },
      "source": [
        "author_category_sdf = authors_sdf.groupBy(\"authors\").agg(F.collect_set(\"categories\")).withColumnRenamed(\"collect_set(categories)\", \"categories\")\n",
        "author_category_sdf.show()"
      ],
      "execution_count": 31,
      "outputs": [
        {
          "output_type": "stream",
          "text": [
            "+--------------------+--------------------+\n",
            "|             authors|          categories|\n",
            "+--------------------+--------------------+\n",
            "|    [A., M., , Tony]|       [astro-ph.IM]|\n",
            "|[A2 Collaboration...|[nucl-ex, hep-ex,...|\n",
            "|[AMOYAL, Guillaum...|[physics.med-ph, ...|\n",
            "| [Aarrestad, Thea, ]|[physics.comp-ph,...|\n",
            "|     [Aavikko, R., ]| [cond-mat.mtrl-sci]|\n",
            "|   [Abal, Gonzalo, ]|          [quant-ph]|\n",
            "|[Abate, Alexandra...|       [astro-ph.CO]|\n",
            "|[Abbas, Ibrahim A...|[math.DS, astro-p...|\n",
            "|  [Abbas, Mahmoud, ]|[eess.IV, q-bio.Q...|\n",
            "|      [Abbot, Tim, ]|[astro-ph.GA, ast...|\n",
            "|[Abbrescia, Marce...|   [physics.ins-det]|\n",
            "|[Abbring, Jaap H., ]|[econ.GN, q-fin.E...|\n",
            "|[Abdesselem, A. B...|           [math.DG]|\n",
            "|[Abdolmaleki, Rez...|           [math.AC]|\n",
            "|   [Abdou, Sherif, ]|      [cs.CL, cs.CV]|\n",
            "|     [Abdurrouf, , ]|       [astro-ph.GA]|\n",
            "|[Abel-Tibérini, L...|[astro-ph.IM, ast...|\n",
            "|  [Abenojar, Eric, ]|[physics.app-ph, ...|\n",
            "|[Aberdein, Andrew, ]|  [math.HO, math.LO]|\n",
            "|[Abeysekara, A. U...|       [astro-ph.HE]|\n",
            "+--------------------+--------------------+\n",
            "only showing top 20 rows\n",
            "\n"
          ],
          "name": "stdout"
        }
      ]
    },
    {
      "cell_type": "markdown",
      "metadata": {
        "id": "raUCnMk95DfF"
      },
      "source": [
        "We next want to make sure that every category list forms a mini complete graph, meaning each category is adjacent to all other categories in that list. Towards this end, we define another udf, **make_tuples**, which for every category list, returns a list of all possible tuple combinations of that list, except for a category to itself. \n",
        "\n",
        "These tuples will form the basis of our graph, because they represent the edge between two vertices(categories), which is why we wanted to remove self-edges. Thus, the list of all of the individual tuples in the graph will form an edge list."
      ]
    },
    {
      "cell_type": "code",
      "metadata": {
        "colab": {
          "base_uri": "https://localhost:8080/"
        },
        "id": "fOm5LXPHD5v6",
        "outputId": "c4db63d5-9225-4c0a-d2d7-cb297db91678"
      },
      "source": [
        "x = [1,2,3]\n",
        "def make_tuples(cats):\n",
        "\n",
        "  if (len(cats) ==1):\n",
        "    return None\n",
        "\n",
        "  y = []\n",
        "\n",
        "  for a in cats:\n",
        "    for b in cats:\n",
        "\t    if a != b:\n",
        "\t  \t  y.append([a, b])\n",
        "  \n",
        "  return y\n",
        "\n",
        "spark.udf.register('make_pairs', make_tuples, ArrayType(ArrayType(StringType())))"
      ],
      "execution_count": 32,
      "outputs": [
        {
          "output_type": "execute_result",
          "data": {
            "text/plain": [
              "<function __main__.make_tuples>"
            ]
          },
          "metadata": {
            "tags": []
          },
          "execution_count": 32
        }
      ]
    },
    {
      "cell_type": "code",
      "metadata": {
        "colab": {
          "base_uri": "https://localhost:8080/"
        },
        "id": "Vb8Zxj2QGMxk",
        "outputId": "431c1aa8-6db4-4cba-efa0-987a47931743"
      },
      "source": [
        "author_category_sdf.createOrReplaceTempView('graph_sdf')\n",
        "query = '''SELECT make_pairs(categories) as edges\n",
        "          FROM graph_sdf'''\n",
        "graph_sdf = spark.sql(query)\n",
        "graph_sdf.show()"
      ],
      "execution_count": 33,
      "outputs": [
        {
          "output_type": "stream",
          "text": [
            "+--------------------+\n",
            "|               edges|\n",
            "+--------------------+\n",
            "|                null|\n",
            "|[[nucl-ex, hep-ex...|\n",
            "|[[physics.med-ph,...|\n",
            "|[[physics.comp-ph...|\n",
            "|                null|\n",
            "|                null|\n",
            "|                null|\n",
            "|[[math.DS, astro-...|\n",
            "|[[eess.IV, q-bio....|\n",
            "|[[astro-ph.GA, as...|\n",
            "|                null|\n",
            "|[[econ.GN, q-fin....|\n",
            "|                null|\n",
            "|                null|\n",
            "|[[cs.CL, cs.CV], ...|\n",
            "|                null|\n",
            "|[[astro-ph.IM, as...|\n",
            "|[[physics.app-ph,...|\n",
            "|[[math.HO, math.L...|\n",
            "|                null|\n",
            "+--------------------+\n",
            "only showing top 20 rows\n",
            "\n"
          ],
          "name": "stdout"
        }
      ]
    },
    {
      "cell_type": "markdown",
      "metadata": {
        "id": "u5JQwDZv6oiq"
      },
      "source": [
        "After applying our udf, we select only the edges column. We see many rows are null, which represent the authors who only ever wrote in one category, and thus formed no edges. Thus, we dropna, and explode the edge row to have a complete list of all the edges in the graph."
      ]
    },
    {
      "cell_type": "code",
      "metadata": {
        "id": "tsCWmQeKJn5t"
      },
      "source": [
        "graph_sdf = graph_sdf.dropna()"
      ],
      "execution_count": 34,
      "outputs": []
    },
    {
      "cell_type": "code",
      "metadata": {
        "colab": {
          "base_uri": "https://localhost:8080/"
        },
        "id": "GsLzbX27KE-c",
        "outputId": "69215d45-8a45-4615-929e-8831342ddfa1"
      },
      "source": [
        "edges_sdf = graph_sdf.withColumn(\"edges\", F.explode(graph_sdf.edges))\n",
        "edges_sdf.show()"
      ],
      "execution_count": 35,
      "outputs": [
        {
          "output_type": "stream",
          "text": [
            "+--------------------+\n",
            "|               edges|\n",
            "+--------------------+\n",
            "|   [nucl-ex, hep-ex]|\n",
            "|  [nucl-ex, nucl-th]|\n",
            "|   [hep-ex, nucl-ex]|\n",
            "|   [hep-ex, nucl-th]|\n",
            "|  [nucl-th, nucl-ex]|\n",
            "|   [nucl-th, hep-ex]|\n",
            "|[physics.med-ph, ...|\n",
            "|[physics.ins-det,...|\n",
            "|[physics.comp-ph,...|\n",
            "|[physics.comp-ph,...|\n",
            "|[physics.comp-ph,...|\n",
            "|[physics.comp-ph,...|\n",
            "|[physics.comp-ph,...|\n",
            "|[eess.IV, physics...|\n",
            "|   [eess.IV, hep-ex]|\n",
            "|  [eess.IV, eess.SP]|\n",
            "|[eess.IV, physics...|\n",
            "|    [eess.IV, cs.LG]|\n",
            "|[hep-ex, physics....|\n",
            "|   [hep-ex, eess.IV]|\n",
            "+--------------------+\n",
            "only showing top 20 rows\n",
            "\n"
          ],
          "name": "stdout"
        }
      ]
    },
    {
      "cell_type": "markdown",
      "metadata": {
        "id": "bAp9p_1S7Hq_"
      },
      "source": [
        "We know many edges will be repeated (meaning multiple authors have written in both categories). Thus, we perform a groupby on the unique edges. The new column, *count*, will represent the weight of each edge, meaning the more occurences of each edge, the heavier it is weighted."
      ]
    },
    {
      "cell_type": "code",
      "metadata": {
        "id": "e7ffZRT3Mh9c"
      },
      "source": [
        "edges_sdf.createOrReplaceTempView('edges_sdf')\n",
        "query = '''SELECT edges, COUNT(edges) as weight\n",
        "          FROM edges_sdf \n",
        "          GROUP BY edges\n",
        "          ORDER BY weight DESC'''\n",
        "\n",
        "edges_weighted_sdf = spark.sql(query)"
      ],
      "execution_count": 36,
      "outputs": []
    },
    {
      "cell_type": "code",
      "metadata": {
        "colab": {
          "base_uri": "https://localhost:8080/"
        },
        "id": "gbG8AP0GLvZF",
        "outputId": "78ab6c4b-4f07-49bb-e1e2-19d7dbf3be8a"
      },
      "source": [
        "edges_weighted_sdf.show()\n",
        "print(edges_weighted_sdf.count())"
      ],
      "execution_count": 37,
      "outputs": [
        {
          "output_type": "stream",
          "text": [
            "+--------------------+------+\n",
            "|               edges|weight|\n",
            "+--------------------+------+\n",
            "|    [stat.ML, cs.LG]| 62885|\n",
            "|    [cs.LG, stat.ML]| 62885|\n",
            "|    [hep-ex, hep-ph]| 47894|\n",
            "|    [hep-ph, hep-ex]| 47894|\n",
            "|[cond-mat.mes-hal...| 47082|\n",
            "|[cond-mat.mtrl-sc...| 47082|\n",
            "|[physics.ins-det,...| 44735|\n",
            "|[hep-ex, physics....| 44735|\n",
            "|  [math.MP, math-ph]| 43910|\n",
            "|  [math-ph, math.MP]| 43910|\n",
            "|[astro-ph.GA, ast...| 38535|\n",
            "|[astro-ph.CO, ast...| 38535|\n",
            "|      [cs.LG, cs.CV]| 37380|\n",
            "|      [cs.CV, cs.LG]| 37380|\n",
            "|[astro-ph.IM, ast...| 35056|\n",
            "|[astro-ph.HE, ast...| 35056|\n",
            "|[astro-ph.CO, ast...| 32489|\n",
            "|[astro-ph.IM, ast...| 32489|\n",
            "|[astro-ph.SR, ast...| 31979|\n",
            "|[astro-ph.GA, ast...| 31979|\n",
            "+--------------------+------+\n",
            "only showing top 20 rows\n",
            "\n",
            "24790\n"
          ],
          "name": "stdout"
        }
      ]
    },
    {
      "cell_type": "markdown",
      "metadata": {
        "id": "nxYWaUTX8CP6"
      },
      "source": [
        "Here we have our final edge list, consisting of 24790 edges and their corresponding weights. We can see each edge has a corresponding back-edge of the same weight, which is correct since our graph is undirected. Thus, our graph has 12395 unique edges! \n",
        "\n",
        "*(This is almost 158 choose 2 meaning our graph is nearly a complete graph. Thats a lot of interdisciplinary study!)* "
      ]
    },
    {
      "cell_type": "markdown",
      "metadata": {
        "id": "qf0godNN96Db"
      },
      "source": [
        "### Creating the adjacency matrix"
      ]
    },
    {
      "cell_type": "code",
      "metadata": {
        "id": "NydsazfN2DLK"
      },
      "source": [
        "import itertools as itools\r\n",
        "\r\n",
        "edge_list_df = edges_weighted_sdf.toPandas()"
      ],
      "execution_count": 38,
      "outputs": []
    },
    {
      "cell_type": "markdown",
      "metadata": {
        "id": "h5iBfLbTA5LD"
      },
      "source": [
        "We convert the edge list to an adjacency matrix as a numpy array, giving each category an id between 0 and 157."
      ]
    },
    {
      "cell_type": "code",
      "metadata": {
        "colab": {
          "base_uri": "https://localhost:8080/"
        },
        "id": "NVtQh8Ls3Vs7",
        "outputId": "ca9a6ca7-9477-44d2-ca24-e0fb217f0511"
      },
      "source": [
        "list_cats = list(set(itools.chain.from_iterable(edge_list_df.edges)))\r\n",
        "cats_to_ids = {}\r\n",
        "ids_to_cats = {}\r\n",
        "for i in range(len(list_cats)):\r\n",
        "  cats_to_ids[list_cats[i]] = i\r\n",
        "  ids_to_cats[i] = list_cats[i]\r\n",
        "print(cats_to_ids)\r\n",
        "print(ids_to_cats)"
      ],
      "execution_count": 39,
      "outputs": [
        {
          "output_type": "stream",
          "text": [
            "{'stat.AP': 0, 'hep-ph': 1, 'math.RT': 2, 'math.KT': 3, 'math.NT': 4, 'q-fin.EC': 5, 'cs.DL': 6, 'nlin.CG': 7, 'cond-mat.stat-mech': 8, 'astro-ph.HE': 9, 'cs.GT': 10, 'physics.atom-ph': 11, 'math.AC': 12, 'math.MG': 13, 'cs.AR': 14, 'stat.TH': 15, 'cs.SY': 16, 'cond-mat.dis-nn': 17, 'stat.ML': 18, 'physics.space-ph': 19, 'math.CV': 20, 'cs.CY': 21, 'physics.plasm-ph': 22, 'physics.flu-dyn': 23, 'physics.class-ph': 24, 'eess.AS': 25, 'cs.CC': 26, 'physics.atm-clus': 27, 'physics.gen-ph': 28, 'gr-qc': 29, 'q-fin.ST': 30, 'q-bio.MN': 31, 'quant-ph': 32, 'nlin.AO': 33, 'math.CT': 34, 'eess.SP': 35, 'physics.data-an': 36, 'q-bio.SC': 37, 'math.FA': 38, 'math.HO': 39, 'cs.AI': 40, 'math.GT': 41, 'math.ST': 42, 'cs.NA': 43, 'q-fin.RM': 44, 'physics.soc-ph': 45, 'cs.GR': 46, 'q-bio.TO': 47, 'astro-ph.IM': 48, 'nucl-th': 49, 'physics.med-ph': 50, 'cs.MS': 51, 'eess.SY': 52, 'math.SG': 53, 'cs.CV': 54, 'math.IT': 55, 'cs.NE': 56, 'stat.OT': 57, 'physics.ao-ph': 58, 'cond-mat.mtrl-sci': 59, 'math.PR': 60, 'cond-mat.str-el': 61, 'math.DG': 62, 'cs.DC': 63, 'econ.EM': 64, 'q-fin.CP': 65, 'astro-ph.CO': 66, 'math.GM': 67, 'physics.hist-ph': 68, 'cs.NI': 69, 'cs.CR': 70, 'cs.IR': 71, 'cond-mat': 72, 'q-bio.OT': 73, 'math.MP': 74, 'hep-lat': 75, 'math.CO': 76, 'physics.comp-ph': 77, 'physics.chem-ph': 78, 'nlin.PS': 79, 'q-bio.BM': 80, 'nlin.SI': 81, 'cs.SE': 82, 'physics.pop-ph': 83, 'cond-mat.other': 84, 'q-bio.CB': 85, 'q-fin.GN': 86, 'cs.CL': 87, 'q-fin.MF': 88, 'cs.OS': 89, 'math.SP': 90, 'hep-ex': 91, 'math.OA': 92, 'physics.acc-ph': 93, 'cs.DB': 94, 'cs.OH': 95, 'cs.CG': 96, 'math.QA': 97, 'chao-dyn': 98, 'cs.DS': 99, 'cond-mat.mes-hall': 100, 'cond-mat.soft': 101, 'cs.SD': 102, 'cs.HC': 103, 'math.AG': 104, 'q-bio.NC': 105, 'math.LO': 106, 'q-fin.PR': 107, 'cs.SC': 108, 'math.RA': 109, 'q-bio.GN': 110, 'cs.MM': 111, 'math-ph': 112, 'astro-ph.SR': 113, 'cs.DM': 114, 'cs.PL': 115, 'cs.LG': 116, 'cond-mat.supr-con': 117, 'nlin.CD': 118, 'cs.FL': 119, 'cs.CE': 120, 'stat.ME': 121, 'econ.TH': 122, 'math.GR': 123, 'q-fin.PM': 124, 'physics.optics': 125, 'cond-mat.quant-gas': 126, 'physics.ins-det': 127, 'q-bio.PE': 128, 'cs.LO': 129, 'physics.geo-ph': 130, 'math.OC': 131, 'math.AP': 132, 'physics.bio-ph': 133, 'q-bio.QM': 134, 'cs.RO': 135, 'astro-ph': 136, 'math.GN': 137, 'cs.IT': 138, 'cs.PF': 139, 'econ.GN': 140, 'hep-th': 141, 'math.CA': 142, 'nucl-ex': 143, 'cs.ET': 144, 'astro-ph.EP': 145, 'math.AT': 146, 'physics.app-ph': 147, 'math.NA': 148, 'stat.CO': 149, 'cs.SI': 150, 'math.DS': 151, 'astro-ph.GA': 152, 'cs.MA': 153, 'q-fin.TR': 154, 'physics.ed-ph': 155, 'eess.IV': 156, 'cs.GL': 157}\n",
            "{0: 'stat.AP', 1: 'hep-ph', 2: 'math.RT', 3: 'math.KT', 4: 'math.NT', 5: 'q-fin.EC', 6: 'cs.DL', 7: 'nlin.CG', 8: 'cond-mat.stat-mech', 9: 'astro-ph.HE', 10: 'cs.GT', 11: 'physics.atom-ph', 12: 'math.AC', 13: 'math.MG', 14: 'cs.AR', 15: 'stat.TH', 16: 'cs.SY', 17: 'cond-mat.dis-nn', 18: 'stat.ML', 19: 'physics.space-ph', 20: 'math.CV', 21: 'cs.CY', 22: 'physics.plasm-ph', 23: 'physics.flu-dyn', 24: 'physics.class-ph', 25: 'eess.AS', 26: 'cs.CC', 27: 'physics.atm-clus', 28: 'physics.gen-ph', 29: 'gr-qc', 30: 'q-fin.ST', 31: 'q-bio.MN', 32: 'quant-ph', 33: 'nlin.AO', 34: 'math.CT', 35: 'eess.SP', 36: 'physics.data-an', 37: 'q-bio.SC', 38: 'math.FA', 39: 'math.HO', 40: 'cs.AI', 41: 'math.GT', 42: 'math.ST', 43: 'cs.NA', 44: 'q-fin.RM', 45: 'physics.soc-ph', 46: 'cs.GR', 47: 'q-bio.TO', 48: 'astro-ph.IM', 49: 'nucl-th', 50: 'physics.med-ph', 51: 'cs.MS', 52: 'eess.SY', 53: 'math.SG', 54: 'cs.CV', 55: 'math.IT', 56: 'cs.NE', 57: 'stat.OT', 58: 'physics.ao-ph', 59: 'cond-mat.mtrl-sci', 60: 'math.PR', 61: 'cond-mat.str-el', 62: 'math.DG', 63: 'cs.DC', 64: 'econ.EM', 65: 'q-fin.CP', 66: 'astro-ph.CO', 67: 'math.GM', 68: 'physics.hist-ph', 69: 'cs.NI', 70: 'cs.CR', 71: 'cs.IR', 72: 'cond-mat', 73: 'q-bio.OT', 74: 'math.MP', 75: 'hep-lat', 76: 'math.CO', 77: 'physics.comp-ph', 78: 'physics.chem-ph', 79: 'nlin.PS', 80: 'q-bio.BM', 81: 'nlin.SI', 82: 'cs.SE', 83: 'physics.pop-ph', 84: 'cond-mat.other', 85: 'q-bio.CB', 86: 'q-fin.GN', 87: 'cs.CL', 88: 'q-fin.MF', 89: 'cs.OS', 90: 'math.SP', 91: 'hep-ex', 92: 'math.OA', 93: 'physics.acc-ph', 94: 'cs.DB', 95: 'cs.OH', 96: 'cs.CG', 97: 'math.QA', 98: 'chao-dyn', 99: 'cs.DS', 100: 'cond-mat.mes-hall', 101: 'cond-mat.soft', 102: 'cs.SD', 103: 'cs.HC', 104: 'math.AG', 105: 'q-bio.NC', 106: 'math.LO', 107: 'q-fin.PR', 108: 'cs.SC', 109: 'math.RA', 110: 'q-bio.GN', 111: 'cs.MM', 112: 'math-ph', 113: 'astro-ph.SR', 114: 'cs.DM', 115: 'cs.PL', 116: 'cs.LG', 117: 'cond-mat.supr-con', 118: 'nlin.CD', 119: 'cs.FL', 120: 'cs.CE', 121: 'stat.ME', 122: 'econ.TH', 123: 'math.GR', 124: 'q-fin.PM', 125: 'physics.optics', 126: 'cond-mat.quant-gas', 127: 'physics.ins-det', 128: 'q-bio.PE', 129: 'cs.LO', 130: 'physics.geo-ph', 131: 'math.OC', 132: 'math.AP', 133: 'physics.bio-ph', 134: 'q-bio.QM', 135: 'cs.RO', 136: 'astro-ph', 137: 'math.GN', 138: 'cs.IT', 139: 'cs.PF', 140: 'econ.GN', 141: 'hep-th', 142: 'math.CA', 143: 'nucl-ex', 144: 'cs.ET', 145: 'astro-ph.EP', 146: 'math.AT', 147: 'physics.app-ph', 148: 'math.NA', 149: 'stat.CO', 150: 'cs.SI', 151: 'math.DS', 152: 'astro-ph.GA', 153: 'cs.MA', 154: 'q-fin.TR', 155: 'physics.ed-ph', 156: 'eess.IV', 157: 'cs.GL'}\n"
          ],
          "name": "stdout"
        }
      ]
    },
    {
      "cell_type": "code",
      "metadata": {
        "colab": {
          "base_uri": "https://localhost:8080/"
        },
        "id": "RIuzY1gn4nP4",
        "outputId": "d564c072-a443-4056-de28-bfa816fb345a"
      },
      "source": [
        "adj_mat = np.zeros((158, 158))\r\n",
        "for index, row in edge_list_df.iterrows():\r\n",
        "  r = cats_to_ids[row['edges'][0]]\r\n",
        "  c = cats_to_ids[row['edges'][1]]\r\n",
        "  adj_mat[r][c] = row['weight']\r\n",
        "print(adj_mat)"
      ],
      "execution_count": 40,
      "outputs": [
        {
          "output_type": "stream",
          "text": [
            "[[0.000e+00 6.160e+02 1.470e+02 ... 1.120e+02 1.417e+03 2.500e+01]\n",
            " [6.160e+02 0.000e+00 3.830e+02 ... 5.470e+02 6.400e+02 1.200e+01]\n",
            " [1.470e+02 3.830e+02 0.000e+00 ... 2.200e+01 1.560e+02 1.000e+00]\n",
            " ...\n",
            " [1.120e+02 5.470e+02 2.200e+01 ... 0.000e+00 2.800e+01 4.600e+01]\n",
            " [1.417e+03 6.400e+02 1.560e+02 ... 2.800e+01 0.000e+00 2.300e+01]\n",
            " [2.500e+01 1.200e+01 1.000e+00 ... 4.600e+01 2.300e+01 0.000e+00]]\n"
          ],
          "name": "stdout"
        }
      ]
    },
    {
      "cell_type": "markdown",
      "metadata": {
        "id": "lvzaSMcCBCZy"
      },
      "source": [
        "Here, we can see our completed adjacency matrix which we will be using for PageRank. We see all edges and back-edges having the same weight. \n",
        "\n",
        "Lastly we divide each column by the sum of its total weight, to normalize all weights to 1"
      ]
    },
    {
      "cell_type": "code",
      "metadata": {
        "id": "y2osJqMP7JRw"
      },
      "source": [
        "#Divide by column sums to make all columns sum to 1\r\n",
        "adj_mat_normed = adj_mat/adj_mat.sum(axis=0, keepdims=1)"
      ],
      "execution_count": 41,
      "outputs": []
    },
    {
      "cell_type": "markdown",
      "metadata": {
        "id": "ZeoJXR_d8CyR"
      },
      "source": [
        "# PAGERANK!"
      ]
    },
    {
      "cell_type": "markdown",
      "metadata": {
        "id": "tlUo8TvABlAe"
      },
      "source": [
        "We run the PageRank algorithm with a damping factor of 0.85 for 75 iterations. Using the adjacency matrix for the graph, running the PageRank algorithm boils down to a series matrix multiplications. To measure the convergence we look at the sum of the changes in the PageRank values for all nodes in the graph from one iteration to the next."
      ]
    },
    {
      "cell_type": "code",
      "metadata": {
        "id": "BoUDXohH8A98"
      },
      "source": [
        "damping = 0.85\r\n",
        "p_weights = np.ones((158, 1))\r\n",
        "iters = 75\r\n",
        "# Total difference in all pagerank values from one iteration to the next\r\n",
        "iter_difference = []\r\n",
        "A = damping * adj_mat_normed + (1 - damping)/158\r\n",
        "for i in range(iters):\r\n",
        "  p_weights_new = A @ p_weights\r\n",
        "  diff = np.sum(np.absolute(p_weights_new - p_weights))\r\n",
        "  iter_difference.append(diff)\r\n",
        "  p_weights = p_weights_new"
      ],
      "execution_count": 42,
      "outputs": []
    },
    {
      "cell_type": "markdown",
      "metadata": {
        "id": "SRFfx65GBpgg"
      },
      "source": [
        "We find that the categories with the highest PageRank values are Machine Learning, Materials Science, Quantum Physics, and High Energy Physics -  Phenomenology. It’s interesting to consider what it really means for a category to have a high PageRank value in this context. One way to interpret the PageRank of a category in our graph is as how interdisciplinary a category is in the corpus of all papers, or in other words papers more often include high PageRank categories as an additional category aside from the main category under which we may first classify the paper."
      ]
    },
    {
      "cell_type": "code",
      "metadata": {
        "id": "0TElEhklWEeK",
        "colab": {
          "base_uri": "https://localhost:8080/",
          "height": 417
        },
        "outputId": "0e0110b5-3040-411d-a303-fec83df5df94"
      },
      "source": [
        "p_weights_df = pd.DataFrame(p_weights, columns=['PageRank']).reset_index()\n",
        "p_weights_df['Category'] = p_weights_df['index'].map(ids_to_cats)\n",
        "p_weights_df = p_weights_df.sort_values(by=['PageRank'], ascending=False).drop('index', axis=1)\n",
        "p_weights_df "
      ],
      "execution_count": 43,
      "outputs": [
        {
          "output_type": "execute_result",
          "data": {
            "text/html": [
              "<div>\n",
              "<style scoped>\n",
              "    .dataframe tbody tr th:only-of-type {\n",
              "        vertical-align: middle;\n",
              "    }\n",
              "\n",
              "    .dataframe tbody tr th {\n",
              "        vertical-align: top;\n",
              "    }\n",
              "\n",
              "    .dataframe thead th {\n",
              "        text-align: right;\n",
              "    }\n",
              "</style>\n",
              "<table border=\"1\" class=\"dataframe\">\n",
              "  <thead>\n",
              "    <tr style=\"text-align: right;\">\n",
              "      <th></th>\n",
              "      <th>PageRank</th>\n",
              "      <th>Category</th>\n",
              "    </tr>\n",
              "  </thead>\n",
              "  <tbody>\n",
              "    <tr>\n",
              "      <th>116</th>\n",
              "      <td>4.404241</td>\n",
              "      <td>cs.LG</td>\n",
              "    </tr>\n",
              "    <tr>\n",
              "      <th>18</th>\n",
              "      <td>3.356277</td>\n",
              "      <td>stat.ML</td>\n",
              "    </tr>\n",
              "    <tr>\n",
              "      <th>59</th>\n",
              "      <td>3.070152</td>\n",
              "      <td>cond-mat.mtrl-sci</td>\n",
              "    </tr>\n",
              "    <tr>\n",
              "      <th>32</th>\n",
              "      <td>3.024731</td>\n",
              "      <td>quant-ph</td>\n",
              "    </tr>\n",
              "    <tr>\n",
              "      <th>1</th>\n",
              "      <td>2.844766</td>\n",
              "      <td>hep-ph</td>\n",
              "    </tr>\n",
              "    <tr>\n",
              "      <th>...</th>\n",
              "      <td>...</td>\n",
              "      <td>...</td>\n",
              "    </tr>\n",
              "    <tr>\n",
              "      <th>57</th>\n",
              "      <td>0.248931</td>\n",
              "      <td>stat.OT</td>\n",
              "    </tr>\n",
              "    <tr>\n",
              "      <th>67</th>\n",
              "      <td>0.240909</td>\n",
              "      <td>math.GM</td>\n",
              "    </tr>\n",
              "    <tr>\n",
              "      <th>89</th>\n",
              "      <td>0.219451</td>\n",
              "      <td>cs.OS</td>\n",
              "    </tr>\n",
              "    <tr>\n",
              "      <th>122</th>\n",
              "      <td>0.217597</td>\n",
              "      <td>econ.TH</td>\n",
              "    </tr>\n",
              "    <tr>\n",
              "      <th>157</th>\n",
              "      <td>0.181398</td>\n",
              "      <td>cs.GL</td>\n",
              "    </tr>\n",
              "  </tbody>\n",
              "</table>\n",
              "<p>158 rows × 2 columns</p>\n",
              "</div>"
            ],
            "text/plain": [
              "     PageRank           Category\n",
              "116  4.404241              cs.LG\n",
              "18   3.356277            stat.ML\n",
              "59   3.070152  cond-mat.mtrl-sci\n",
              "32   3.024731           quant-ph\n",
              "1    2.844766             hep-ph\n",
              "..        ...                ...\n",
              "57   0.248931            stat.OT\n",
              "67   0.240909            math.GM\n",
              "89   0.219451              cs.OS\n",
              "122  0.217597            econ.TH\n",
              "157  0.181398              cs.GL\n",
              "\n",
              "[158 rows x 2 columns]"
            ]
          },
          "metadata": {
            "tags": []
          },
          "execution_count": 43
        }
      ]
    },
    {
      "cell_type": "markdown",
      "metadata": {
        "id": "DF6xn_DVB4n5"
      },
      "source": [
        "Here we plot the sum difference in PageRank values from iteration to iteration and see that it declines quite sharply."
      ]
    },
    {
      "cell_type": "code",
      "metadata": {
        "colab": {
          "base_uri": "https://localhost:8080/",
          "height": 606
        },
        "id": "Y9J7XS51DXMi",
        "outputId": "8b2732e2-951f-42f2-f549-6659056d0970"
      },
      "source": [
        "plt.rcParams['figure.figsize'] = [10, 10]\r\n",
        "plt.plot(iter_difference)\r\n",
        "plt.xlabel('Iteration')\r\n",
        "plt.ylabel('Iteration difference')\r\n",
        "plt.show()"
      ],
      "execution_count": 44,
      "outputs": [
        {
          "output_type": "display_data",
          "data": {
            "image/png": "[encoded data removed]",
            "text/plain": [
              "<Figure size 720x720 with 1 Axes>"
            ]
          },
          "metadata": {
            "tags": [],
            "needs_background": "light"
          }
        }
      ]
    },
    {
      "cell_type": "markdown",
      "metadata": {
        "id": "3TpPZautB80t"
      },
      "source": [
        "To gain a clearer picture of the PageRank algorithm in action, here we plot the log of the difference in PageRank values from iteration to iteration and see that it declines almost exactly linearly."
      ]
    },
    {
      "cell_type": "code",
      "metadata": {
        "colab": {
          "base_uri": "https://localhost:8080/",
          "height": 606
        },
        "id": "se2FeZyNBBI5",
        "outputId": "a9ca451d-2693-4bdc-a265-c02ab3f135ca"
      },
      "source": [
        "plt.rcParams['figure.figsize'] = [10, 10]\r\n",
        "plt.plot(np.log(iter_difference))\r\n",
        "plt.xlabel('Iteration')\r\n",
        "plt.ylabel('Log of iteration difference')\r\n",
        "plt.show()"
      ],
      "execution_count": 45,
      "outputs": [
        {
          "output_type": "display_data",
          "data": {
            "image/png": "[encoded data removed]",
            "text/plain": [
              "<Figure size 720x720 with 1 Axes>"
            ]
          },
          "metadata": {
            "tags": [],
            "needs_background": "light"
          }
        }
      ]
    },
    {
      "cell_type": "markdown",
      "metadata": {
        "id": "keNEZmig-yfy"
      },
      "source": [
        "# Category Prediction and Modeling"
      ]
    },
    {
      "cell_type": "markdown",
      "metadata": {
        "id": "NNZua9x-_Azq"
      },
      "source": [
        "## Data formatting"
      ]
    },
    {
      "cell_type": "markdown",
      "metadata": {
        "id": "iSYnNS8pCLvT"
      },
      "source": [
        "Here we create an sdf with just the abstract and the category, since that’s all we need for our classifier. We limit our data to 100,000 rows since fitting with more than that gets very costly. \n"
      ]
    },
    {
      "cell_type": "code",
      "metadata": {
        "colab": {
          "base_uri": "https://localhost:8080/"
        },
        "id": "r7ggUxxFgqIL",
        "outputId": "deddd8e7-2117-4d4b-e278-53b6138bafe4"
      },
      "source": [
        "cats_abstract_sdf = data_sdf_new.select('cats_parsed', 'abstract').withColumn('primary_category', data_sdf_new.cats_parsed[0])\r\n",
        "cats_abstract_sdf.createOrReplaceTempView('cats_abstract_sdf')\r\n",
        "query = '''SELECT abstract, primary_category\r\n",
        "          FROM cats_abstract_sdf\r\n",
        "          Limit 100000'''\r\n",
        "cats_abstract_sdf = spark.sql(query)\r\n",
        "cats_abstract_sdf.show()\r\n"
      ],
      "execution_count": 46,
      "outputs": [
        {
          "output_type": "stream",
          "text": [
            "+--------------------+--------------------+\n",
            "|            abstract|    primary_category|\n",
            "+--------------------+--------------------+\n",
            "|  A fully differe...| High-energy Physics|\n",
            "|  We describe a n...|                Math|\n",
            "|  The evolution o...|                  CS|\n",
            "|  We show that a ...|                Math|\n",
            "|  In this paper w...|                Math|\n",
            "|  We study the tw...|Condensed Matter ...|\n",
            "|  A rather non-st...|General Relativit...|\n",
            "|  A general formu...|Condensed Matter ...|\n",
            "|  We discuss the ...|        Astrophysics|\n",
            "|  Partial cubes a...|                Math|\n",
            "|  In this paper w...|                Math|\n",
            "|  Recently, Bruin...|                Math|\n",
            "|  Serre obtained ...|                Math|\n",
            "|  In this article...|                Math|\n",
            "|  The pure spinor...| High-energy Physics|\n",
            "|  In this work, w...| High-energy Physics|\n",
            "|  Results from sp...|        Astrophysics|\n",
            "|  We give a presc...| High-energy Physics|\n",
            "|  In this note we...|                Math|\n",
            "|  The shape of th...| High-energy Physics|\n",
            "+--------------------+--------------------+\n",
            "only showing top 20 rows\n",
            "\n"
          ],
          "name": "stdout"
        }
      ]
    },
    {
      "cell_type": "markdown",
      "metadata": {
        "id": "Zw7bD0XiCQ0C"
      },
      "source": [
        "\n",
        "\n",
        "We use nltk’s tokenizer to break the abstracts into bags of words. We clean the abstracts by removing stop words as well as non-alphabetic characters. \n"
      ]
    },
    {
      "cell_type": "code",
      "metadata": {
        "colab": {
          "base_uri": "https://localhost:8080/"
        },
        "id": "R6mbiZvGopuk",
        "outputId": "9b861002-eff5-4a4d-adc9-9906c48391b7"
      },
      "source": [
        "import nltk \n",
        "import re\n",
        "from nltk.corpus import stopwords\n",
        "nltk.download('punkt')\n",
        "nltk.download('stopwords')\n",
        "stopwords = set(stopwords.words('english'))\n",
        "regex = re.compile('[^a-zA-Z]')\n",
        "\n",
        "\n",
        "def tokenize(abs):\n",
        "  \n",
        "  abs = abs.lower()\n",
        "  x =  nltk.word_tokenize(regex.sub(' ', abs))\n",
        "  \n",
        "\n",
        "  x2 = []\n",
        "\n",
        "  for i in x:\n",
        "    if i not in stopwords:\n",
        "      x2.append(i)\n",
        "  return x2\n",
        "  \n",
        "cats_abstract_sdf.createOrReplaceTempView('abs_cats')\n",
        "spark.udf.register('TOKENIZE', tokenize, ArrayType(StringType()))\n",
        "token_abs_sdf = spark.sql('select TOKENIZE(abstract) as abstract_tokenized, primary_category from abs_cats')\n",
        "token_abs_sdf.show()"
      ],
      "execution_count": 47,
      "outputs": [
        {
          "output_type": "stream",
          "text": [
            "[nltk_data] Downloading package punkt to /root/nltk_data...\n",
            "[nltk_data]   Unzipping tokenizers/punkt.zip.\n",
            "[nltk_data] Downloading package stopwords to /root/nltk_data...\n",
            "[nltk_data]   Unzipping corpora/stopwords.zip.\n",
            "+--------------------+--------------------+\n",
            "|  abstract_tokenized|    primary_category|\n",
            "+--------------------+--------------------+\n",
            "|[fully, different...| High-energy Physics|\n",
            "|[describe, new, a...|                Math|\n",
            "|[evolution, earth...|                  CS|\n",
            "|[show, determinan...|                Math|\n",
            "|[paper, show, com...|                Math|\n",
            "|[study, two, part...|Condensed Matter ...|\n",
            "|[rather, non, sta...|General Relativit...|\n",
            "|[general, formula...|Condensed Matter ...|\n",
            "|[discuss, results...|        Astrophysics|\n",
            "|[partial, cubes, ...|                Math|\n",
            "|[paper, present, ...|                Math|\n",
            "|[recently, bruini...|                Math|\n",
            "|[serre, obtained,...|                Math|\n",
            "|[article, discuss...|                Math|\n",
            "|[pure, spinor, fo...| High-energy Physics|\n",
            "|[work, evaluate, ...| High-energy Physics|\n",
            "|[results, spectro...|        Astrophysics|\n",
            "|[give, prescripti...| High-energy Physics|\n",
            "|[note, give, new,...|                Math|\n",
            "|[shape, hadronic,...| High-energy Physics|\n",
            "+--------------------+--------------------+\n",
            "only showing top 20 rows\n",
            "\n"
          ],
          "name": "stdout"
        }
      ]
    },
    {
      "cell_type": "markdown",
      "metadata": {
        "id": "1Kir06rM_J95"
      },
      "source": [
        "## Naive Bayes Modeling"
      ]
    },
    {
      "cell_type": "markdown",
      "metadata": {
        "id": "ktwjnq14CWsH"
      },
      "source": [
        "Here we start building our pipeline for our classifier. Since we already tokenized and cleaned the bag of words, we just have two steps: vectorized the input and output. For the input we use a wordVectorizer library and for the output we simply map each category to a number from 0 to n-1, where n is the number of categories. \n"
      ]
    },
    {
      "cell_type": "code",
      "metadata": {
        "colab": {
          "base_uri": "https://localhost:8080/"
        },
        "id": "eAX2Pb5k5IiP",
        "outputId": "1b66f617-79f9-4418-a6cf-925cf8dff65f"
      },
      "source": [
        "from pyspark.ml import Pipeline\n",
        "from pyspark.ml.feature import CountVectorizer, StringIndexer\n",
        "\n",
        "count_vectors = CountVectorizer(inputCol='abstract_tokenized', outputCol='features', vocabSize=50000, minDF=5)\n",
        "label_indexer = StringIndexer(inputCol='primary_category', outputCol='label')\n",
        "pipeline=Pipeline(stages=[count_vectors, label_indexer])\n",
        "\n",
        "pipelineFit = pipeline.fit(token_abs_sdf)\n",
        "dataset = pipelineFit.transform(token_abs_sdf)\n",
        "dataset.show(5)"
      ],
      "execution_count": 48,
      "outputs": [
        {
          "output_type": "stream",
          "text": [
            "+--------------------+-------------------+--------------------+-----+\n",
            "|  abstract_tokenized|   primary_category|            features|label|\n",
            "+--------------------+-------------------+--------------------+-----+\n",
            "|[fully, different...|High-energy Physics|(25653,[8,13,17,2...|  3.0|\n",
            "|[describe, new, a...|               Math|(25653,[4,7,12,15...|  0.0|\n",
            "|[evolution, earth...|                 CS|(25653,[0,3,6,7,1...|  4.0|\n",
            "|[show, determinan...|               Math|(25653,[5,94,143,...|  0.0|\n",
            "|[paper, show, com...|               Math|(25653,[2,5,10,22...|  0.0|\n",
            "+--------------------+-------------------+--------------------+-----+\n",
            "only showing top 5 rows\n",
            "\n"
          ],
          "name": "stdout"
        }
      ]
    },
    {
      "cell_type": "markdown",
      "metadata": {
        "id": "gvB3dRljCcdd"
      },
      "source": [
        "Now we’re ready to split the training and test data and run our Naive Bayes model on it. \n"
      ]
    },
    {
      "cell_type": "code",
      "metadata": {
        "id": "x0-slaAQAjI2",
        "colab": {
          "base_uri": "https://localhost:8080/"
        },
        "outputId": "d30b5d9f-2b59-4509-fc42-03a70d21ddc4"
      },
      "source": [
        "train_sdf, test_sdf = dataset.randomSplit([0.8, 0.2])\n",
        "print('Train size: ' + str(train_sdf.count()))"
      ],
      "execution_count": 49,
      "outputs": [
        {
          "output_type": "stream",
          "text": [
            "Train size: 80058\n"
          ],
          "name": "stdout"
        }
      ]
    },
    {
      "cell_type": "code",
      "metadata": {
        "id": "xkHgV5bAUXqF",
        "colab": {
          "base_uri": "https://localhost:8080/"
        },
        "outputId": "eb39cc93-8ea9-4f12-ecba-97eb5b65b77a"
      },
      "source": [
        "from pyspark.ml.classification import NaiveBayes\n",
        "\n",
        "nb = NaiveBayes(smoothing=1)\n",
        "model = nb.fit(train_sdf)\n",
        "predictions = model.transform(test_sdf)\n",
        "predictions.select(\"abstract_tokenized\",\"primary_category\",\"probability\",\"label\",\"prediction\").orderBy(\"probability\", ascending=False).show(n = 10, truncate = 30)"
      ],
      "execution_count": 50,
      "outputs": [
        {
          "output_type": "stream",
          "text": [
            "+------------------------------+----------------+------------------------------+-----+----------+\n",
            "|            abstract_tokenized|primary_category|                   probability|label|prediction|\n",
            "+------------------------------+----------------+------------------------------+-----+----------+\n",
            "|[paper, demostrates, method...|            Math|[1.0,2.2171669760528384E-21...|  0.0|       0.0|\n",
            "|[conjecture, strong, proper...|            Math|[1.0,1.0899830214535293E-21...|  0.0|       0.0|\n",
            "|[paper, compute, alexander,...|            Math|[1.0,6.770734272705641E-22,...|  0.0|       0.0|\n",
            "|[let, compact, set, right, ...|            Math|[1.0,2.3446847401967455E-22...|  0.0|       0.0|\n",
            "|[let, gamma, g, z, g, denot...|            Math|[1.0,1.5035743785796725E-22...|  0.0|       0.0|\n",
            "|[rips, complexes, covers, u...|            Math|[1.0,4.7919758626871664E-23...|  0.0|       0.0|\n",
            "|[construct, coarse, moduli,...|            Math|[1.0,7.071128935419833E-24,...|  0.0|       0.0|\n",
            "|[let, closed, disk, centere...|            Math|[1.0,1.9419560240075686E-24...|  0.0|       0.0|\n",
            "|[examine, itinerary, r, z, ...|            Math|[1.0,1.880330302907399E-24,...|  0.0|       0.0|\n",
            "|[paper, studies, galois, ex...|            Math|[1.0,1.3710066953871561E-24...|  0.0|       0.0|\n",
            "+------------------------------+----------------+------------------------------+-----+----------+\n",
            "only showing top 10 rows\n",
            "\n"
          ],
          "name": "stdout"
        }
      ]
    },
    {
      "cell_type": "markdown",
      "metadata": {
        "id": "r_x3tcVmCgEh"
      },
      "source": [
        "\n",
        "Finally we evaluate its accuracy. 80% is not bad! Especially when you consider the obscureness of the task, how 16 unique categories were included, and things like computer science and statistics papers using a lot of the same language, it seems like our model was very successful."
      ]
    },
    {
      "cell_type": "code",
      "metadata": {
        "colab": {
          "base_uri": "https://localhost:8080/"
        },
        "id": "-AvRm6_td03u",
        "outputId": "00f64bea-f1eb-408b-a1a0-9d1584b0e391"
      },
      "source": [
        "from pyspark.ml.evaluation import MulticlassClassificationEvaluator\n",
        "\n",
        "evaluator = MulticlassClassificationEvaluator(predictionCol=\"prediction\")\n",
        "evaluator.evaluate(predictions)"
      ],
      "execution_count": 51,
      "outputs": [
        {
          "output_type": "execute_result",
          "data": {
            "text/plain": [
              "0.8056824941417833"
            ]
          },
          "metadata": {
            "tags": []
          },
          "execution_count": 51
        }
      ]
    },
    {
      "cell_type": "markdown",
      "metadata": {
        "id": "W-ILAMlrCr5o"
      },
      "source": [
        "# Challenges we encountered"
      ]
    },
    {
      "cell_type": "markdown",
      "metadata": {
        "id": "SpfnzhjEDbSs"
      },
      "source": [
        "\n",
        "\n",
        "One of the key challenges we faced was the wrangling of the data. We found uploading and storing our data on Google Drive was not a viable option. Storing the data on Drive made it much more difficult for us to work on our project individually in pieces. At one point the data even became corrupted in Google Drive, which set us back considerably. In the end, we were able to resolve this issue by storing our data in an S3 bucket. This made importing the data fast and reliable each time we wanted to start a work session.\n",
        "\n",
        "Another key challenge we faced was long runtimes for a lot of the analysis and modeling that we wanted to do. This was probably due largely to the size of our dataset. Since our data consisted of over 1.7 million entries, running expensive operations, like groupbys and model training became very time-consuming. To get around this we sampled smaller portions of our dataset for certain parts of the project, particularly the modeling. Assuming the samples we take are reasonably representative of the entire dataset, we believe we should have attained approximately the same results, as we would have if we had run our computations on the entire dataset.\n",
        "\n",
        "Lastly, we also ran into some complications using Google Colab. Namely, Google Colab does not do a great job at supporting concurrent editing and running of a notebook. This meant that it was challenging to distribute the work that needed to be done on the project. Overall, we just ended up doing a lot of group coding, working together to accomplish different tasks in our notebook. We could have likely just used some other technology to concurrently do different pieces of work for our project, but in retrospect we found that lots of group coding always kept us on the same page."
      ]
    },
    {
      "cell_type": "markdown",
      "metadata": {
        "id": "he3Or6-xCyWB"
      },
      "source": [
        "# Where to go from here"
      ]
    },
    {
      "cell_type": "markdown",
      "metadata": {
        "id": "qNouh35MDO4H"
      },
      "source": [
        "This project was fun and our analysis was pretty cool, but it’s by no means complete. For example, we could have spun up some EC2 instances and trained over the whole dataset to get a better model for predicting categories. We also could have done some more graph analysis, with building something like a graph of authors, where an edge represents them working together. Running PageRank on this might tell us who the most influential authors are. \n"
      ]
    },
    {
      "cell_type": "markdown",
      "metadata": {
        "id": "EKzKjflVDNpI"
      },
      "source": [
        "We also found another dataset which had data on citations for different research papers. If we had more time we could have used the citations dataset to train a model and see which properties of a research paper are successful, which ‘success’ being defined as something like the number of times a paper is cited. We could do something like predicting the number of citations based on the abstract, authors, category etc. Another thing we could do with the citations dataset is run PageRank based on a citation graph, which would be a cool way to see how influential a certain paper is."
      ]
    }
  ]
}